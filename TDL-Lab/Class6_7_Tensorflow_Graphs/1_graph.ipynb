{
 "cells": [
  {
   "cell_type": "code",
   "execution_count": 1,
   "id": "a190527a",
   "metadata": {},
   "outputs": [],
   "source": [
    "# What is session?\n",
    "# Session= Graph + Data\n",
    "#Graph: Layout of the prediction and learning process. It does not include data.( A graph is piece of code that represnt computations)\n",
    "#Data: examples that will train the neural network. It consists on two kinds: inputs and targets.\n",
    "#Session: where everything takes places. Here is where we feed the graph with data."
   ]
  },
  {
   "cell_type": "code",
   "execution_count": 3,
   "id": "9e449998",
   "metadata": {},
   "outputs": [],
   "source": [
    "import tensorflow.compat.v1 as tf\n",
    "tf.disable_v2_behavior()\n",
    "import warnings\n",
    "warnings.filterwarnings(\"ignore\")"
   ]
  },
  {
   "cell_type": "markdown",
   "id": "ad4921c1",
   "metadata": {},
   "source": [
    "# GRAPH"
   ]
  },
  {
   "cell_type": "code",
   "execution_count": 4,
   "id": "a84ce1ae",
   "metadata": {},
   "outputs": [],
   "source": [
    "a = tf.placeholder(tf.int32)\n",
    "b = tf.placeholder(tf.int32)\n",
    "sum_graph = tf.add(a, b)"
   ]
  },
  {
   "cell_type": "markdown",
   "id": "de6b3b6d",
   "metadata": {},
   "source": [
    "# DATA"
   ]
  },
  {
   "cell_type": "code",
   "execution_count": 5,
   "id": "84d58494",
   "metadata": {},
   "outputs": [],
   "source": [
    "num1 = 8\n",
    "num2 = 10"
   ]
  },
  {
   "cell_type": "markdown",
   "id": "8d14c01d",
   "metadata": {},
   "source": [
    "# SESSION"
   ]
  },
  {
   "cell_type": "code",
   "execution_count": 6,
   "id": "cf046811",
   "metadata": {},
   "outputs": [
    {
     "name": "stdout",
     "output_type": "stream",
     "text": [
      "The sum of 3 and 8 is 11\n"
     ]
    },
    {
     "name": "stderr",
     "output_type": "stream",
     "text": [
      "2023-01-19 20:13:40.285673: I tensorflow/core/platform/cpu_feature_guard.cc:193] This TensorFlow binary is optimized with oneAPI Deep Neural Network Library (oneDNN) to use the following CPU instructions in performance-critical operations:  AVX2 FMA\n",
      "To enable them in other operations, rebuild TensorFlow with the appropriate compiler flags.\n",
      "2023-01-19 20:13:40.303751: I tensorflow/compiler/mlir/mlir_graph_optimization_pass.cc:357] MLIR V1 optimization pass is not enabled\n"
     ]
    }
   ],
   "source": [
    "with tf.Session() as sess:\n",
    "    sum_output = sess.run(sum_graph, feed_dict={\n",
    "        a: num1,\n",
    "        b: num2\n",
    "        })\n",
    "\n",
    "    print(\"The sum of {} and {} is {}\".format(num1, num2, sum_output))"
   ]
  },
  {
   "cell_type": "code",
   "execution_count": 8,
   "id": "14784c17",
   "metadata": {},
   "outputs": [
    {
     "name": "stdout",
     "output_type": "stream",
     "text": [
      "11\n"
     ]
    }
   ],
   "source": [
    "# Second method\n",
    "sess = tf.Session()\n",
    "\n",
    "print(sess.run(sum_graph, feed_dict={a:num1, b:num2}))\n",
    "sess.close()"
   ]
  },
  {
   "cell_type": "code",
   "execution_count": null,
   "id": "db921927",
   "metadata": {},
   "outputs": [],
   "source": []
  }
 ],
 "metadata": {
  "kernelspec": {
   "display_name": "Python 3",
   "language": "python",
   "name": "python3"
  },
  "language_info": {
   "codemirror_mode": {
    "name": "ipython",
    "version": 3
   },
   "file_extension": ".py",
   "mimetype": "text/x-python",
   "name": "python",
   "nbconvert_exporter": "python",
   "pygments_lexer": "ipython3",
   "version": "3.10.6 (main, Nov 14 2022, 16:10:14) [GCC 11.3.0]"
  },
  "vscode": {
   "interpreter": {
    "hash": "916dbcbb3f70747c44a77c7bcd40155683ae19c65e1c03b4aa3499c5328201f1"
   }
  }
 },
 "nbformat": 4,
 "nbformat_minor": 5
}

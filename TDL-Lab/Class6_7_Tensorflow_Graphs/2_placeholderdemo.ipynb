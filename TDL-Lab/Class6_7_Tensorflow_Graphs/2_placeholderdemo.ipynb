{
 "cells": [
  {
   "cell_type": "code",
   "execution_count": 5,
   "id": "ede4306d",
   "metadata": {},
   "outputs": [
    {
     "name": "stdout",
     "output_type": "stream",
     "text": [
      "Please enter an integer3\n",
      "Please enter an integer5\n",
      "156\n"
     ]
    }
   ],
   "source": [
    "from __future__ import absolute_import, division, print_function, unicode_literals\n",
    "import tensorflow.compat.v1 as tf\n",
    "tf.disable_v2_behavior()\n",
    "import warnings\n",
    "warnings.filterwarnings(\"ignore\")\n",
    "node1 = tf.constant(13)\n",
    "node2 = tf.constant(5)\n",
    "############################################################ so far nothing new but here is the new twist\n",
    "# I want to get values from a file or a user input and \n",
    "# I wish to use that user input for my computation say\n",
    "node3 = tf.placeholder(dtype=tf.int32)\n",
    "node4 = tf.constant(10)\n",
    "node5 = tf.placeholder(dtype=tf.int32)\n",
    "\n",
    "node6 = tf.multiply(node2, node3)\n",
    "\n",
    "node7 = tf.multiply(node4, node5)\n",
    "\n",
    "node8 = tf.add(node6, node7)\n",
    "\n",
    "node9 = tf.add(node1,node8)\n",
    "\n",
    "node10 = tf.constant(2)\n",
    "\n",
    "node11 = tf.multiply(node10, node9)\n",
    "\n",
    "\n",
    "#Ask for inputs\n",
    "x = int(input(\"Please enter an integer\"))\n",
    "y = int(input(\"Please enter an integer\"))\n",
    "\n",
    "#Get ready to run\n",
    "sess = tf.Session()\n",
    "\n",
    "print(sess.run(node11, feed_dict={node3:x, node5:y}))\n",
    "sess.close()"
   ]
  },
  {
   "cell_type": "code",
   "execution_count": 1,
   "id": "09cc2a40",
   "metadata": {},
   "outputs": [
    {
     "name": "stderr",
     "output_type": "stream",
     "text": [
      "2023-01-20 12:25:44.434937: I tensorflow/core/platform/cpu_feature_guard.cc:193] This TensorFlow binary is optimized with oneAPI Deep Neural Network Library (oneDNN) to use the following CPU instructions in performance-critical operations:  SSE4.1 SSE4.2 AVX AVX2 FMA\n",
      "To enable them in other operations, rebuild TensorFlow with the appropriate compiler flags.\n"
     ]
    },
    {
     "name": "stdout",
     "output_type": "stream",
     "text": [
      "WARNING:tensorflow:From /home/ayushsingh/anaconda3/envs/ai_ml/lib/python3.10/site-packages/tensorflow/python/compat/v2_compat.py:107: disable_resource_variables (from tensorflow.python.ops.variable_scope) is deprecated and will be removed in a future version.\n",
      "Instructions for updating:\n",
      "non-resource variables are not supported in the long term\n"
     ]
    },
    {
     "ename": "ValueError",
     "evalue": "invalid literal for int() with base 10: ''",
     "output_type": "error",
     "traceback": [
      "\u001b[0;31m---------------------------------------------------------------------------\u001b[0m",
      "\u001b[0;31mValueError\u001b[0m                                Traceback (most recent call last)",
      "Cell \u001b[0;32mIn[1], line 22\u001b[0m\n\u001b[1;32m     18\u001b[0m node11 \u001b[39m=\u001b[39m tf\u001b[39m.\u001b[39mmultiply(node10, node9)\n\u001b[1;32m     21\u001b[0m \u001b[39m#Ask for inputs\u001b[39;00m\n\u001b[0;32m---> 22\u001b[0m x \u001b[39m=\u001b[39m \u001b[39mint\u001b[39;49m(\u001b[39minput\u001b[39;49m(\u001b[39m\"\u001b[39;49m\u001b[39mPlease enter an integer\u001b[39;49m\u001b[39m\"\u001b[39;49m))\n\u001b[1;32m     23\u001b[0m y \u001b[39m=\u001b[39m \u001b[39mint\u001b[39m(\u001b[39minput\u001b[39m(\u001b[39m\"\u001b[39m\u001b[39mPlease enter an integer\u001b[39m\u001b[39m\"\u001b[39m))\n\u001b[1;32m     25\u001b[0m \u001b[39m#Get ready to run\u001b[39;00m\n",
      "\u001b[0;31mValueError\u001b[0m: invalid literal for int() with base 10: ''"
     ]
    }
   ],
   "source": [
    "#feed_dict pass into every session.run command"
   ]
  },
  {
   "cell_type": "code",
   "execution_count": null,
   "id": "2eb304f0",
   "metadata": {},
   "outputs": [],
   "source": []
  }
 ],
 "metadata": {
  "kernelspec": {
   "display_name": "ai_ml",
   "language": "python",
   "name": "python3"
  },
  "language_info": {
   "codemirror_mode": {
    "name": "ipython",
    "version": 3
   },
   "file_extension": ".py",
   "mimetype": "text/x-python",
   "name": "python",
   "nbconvert_exporter": "python",
   "pygments_lexer": "ipython3",
   "version": "3.10.8"
  },
  "vscode": {
   "interpreter": {
    "hash": "675e5e662f103e0f338aafe09665377a2c199018438416d404abaa898c5fcab6"
   }
  }
 },
 "nbformat": 4,
 "nbformat_minor": 5
}

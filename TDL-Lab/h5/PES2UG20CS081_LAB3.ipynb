{
 "cells": [
  {
   "attachments": {},
   "cell_type": "markdown",
   "metadata": {},
   "source": [
    "# LAB - 3 TDL\n",
    "---\n",
    "\n",
    "    Ayush Singh\n",
    "    PES2UG20CS081\n",
    "    SECTION -6B\n",
    "\n",
    "---"
   ]
  },
  {
   "cell_type": "code",
   "execution_count": 4,
   "metadata": {},
   "outputs": [
    {
     "name": "stderr",
     "output_type": "stream",
     "text": [
      "2023-02-08 09:52:08.206869: I tensorflow/core/platform/cpu_feature_guard.cc:193] This TensorFlow binary is optimized with oneAPI Deep Neural Network Library (oneDNN) to use the following CPU instructions in performance-critical operations:  SSE4.1 SSE4.2 AVX AVX2 FMA\n",
      "To enable them in other operations, rebuild TensorFlow with the appropriate compiler flags.\n"
     ]
    }
   ],
   "source": [
    "# baseline cnn model for fashion mnist\n",
    "from numpy import mean\n",
    "from numpy import std\n",
    "from matplotlib import pyplot\n",
    "from sklearn.model_selection import KFold\n",
    "from keras.datasets import fashion_mnist\n",
    "from keras.utils import to_categorical\n",
    "from keras.models import Sequential\n",
    "from keras.layers import Conv2D\n",
    "from keras.layers import MaxPooling2D\n",
    "from keras.layers import Dense\n",
    "from keras.layers import Flatten\n",
    "from keras.optimizers import Adam"
   ]
  },
  {
   "cell_type": "code",
   "execution_count": 5,
   "metadata": {},
   "outputs": [],
   "source": [
    "# load train and test dataset\n",
    "def load_dataset():\n",
    "\t# load dataset\n",
    "\t(trainX, trainY), (testX, testY) = fashion_mnist.load_data()\n",
    "\t# reshape dataset to have a single channel\n",
    "\ttrainX = trainX.reshape((trainX.shape[0], 28, 28, 1))\n",
    "\ttestX = testX.reshape((testX.shape[0], 28, 28, 1))\n",
    "\t# one hot encode target values\n",
    "\ttrainY = to_categorical(trainY)\n",
    "\ttestY = to_categorical(testY)\n",
    "\treturn trainX, trainY, testX, testY"
   ]
  },
  {
   "cell_type": "code",
   "execution_count": 6,
   "metadata": {},
   "outputs": [],
   "source": [
    "# scale pixels\n",
    "def prep_pixels(train, test):\n",
    "\t# convert from integers to floats\n",
    "\ttrain_norm = train.astype('float32')\n",
    "\ttest_norm = test.astype('float32')\n",
    "\t# normalize to range 0-1\n",
    "\ttrain_norm = train_norm / 255.0\n",
    "\ttest_norm = test_norm / 255.0\n",
    "\t# return normalized images\n",
    "\treturn train_norm, test_norm"
   ]
  },
  {
   "cell_type": "code",
   "execution_count": 7,
   "metadata": {},
   "outputs": [],
   "source": [
    "# define cnn model\n",
    "def define_model():\n",
    "\tmodel = Sequential([\n",
    "\t\tConv2D(16, (4,4), activation='relu', kernel_initializer='he_uniform', input_shape=(28, 28, 1)),\n",
    "\t\tConv2D(8, (3,3), activation='relu', kernel_initializer='he_uniform', input_shape=(28, 28, 1)),\n",
    "\t\tMaxPooling2D((2, 2)),\n",
    "\t\tFlatten(),\n",
    "\t\tDense(100, activation='relu', kernel_initializer='he_uniform'),\n",
    "\t\tDense(10, activation='softmax')\n",
    "\t])\n",
    "\n",
    "\t# compile model\n",
    "\topt = Adam(learning_rate=0.01)\n",
    "\tmodel.compile(optimizer=opt, loss='categorical_crossentropy', metrics=['accuracy'])\n",
    "\tprint(model.summary())\n",
    "\treturn model\n"
   ]
  },
  {
   "cell_type": "code",
   "execution_count": 8,
   "metadata": {},
   "outputs": [],
   "source": [
    "def evaluate_model(dataX, dataY, n_folds=5):\n",
    "\tscores, histories = list(), list()\n",
    "\t# prepare cross validation\n",
    "\tkfold = KFold(n_folds, shuffle=True, random_state=1)\n",
    "\t# enumerate splits\n",
    "\tfor train_ix, test_ix in kfold.split(dataX):\n",
    "\t\t# define model\n",
    "\t\tmodel = define_model()\n",
    "\t\t# select rows for train and test\n",
    "\t\ttrainX, trainY, testX, testY = dataX[train_ix], dataY[train_ix], dataX[test_ix], dataY[test_ix]\n",
    "\t\t# fit model\n",
    "\t\thistory = model.fit(trainX, trainY, epochs=10, batch_size=32, validation_data=(testX, testY), verbose=1)\n",
    "\t\t# evaluate model\n",
    "\t\t_, acc = model.evaluate(testX, testY, verbose=0)\n",
    "\t\tprint('> %.3f' % (acc * 100.0))\n",
    "\t\t# append scores\n",
    "\t\tscores.append(acc)\n",
    "\t\thistories.append(history)\n",
    "\treturn scores, histories"
   ]
  },
  {
   "cell_type": "code",
   "execution_count": 9,
   "metadata": {},
   "outputs": [],
   "source": [
    "def summarize_diagnostics(histories):\n",
    "\tfor i in range(len(histories)):\n",
    "\t\t# plot loss\n",
    "\t\tpyplot.subplot(211)\n",
    "\t\tpyplot.title('Cross Entropy Loss')\n",
    "\t\tpyplot.plot(histories[i].history['loss'], color='blue', label='train')\n",
    "\t\tpyplot.plot(histories[i].history['val_loss'], color='orange', label='test')\n",
    "\t\t# plot accuracy\n",
    "\t\tpyplot.subplot(212)\n",
    "\t\tpyplot.title('ClassificConv2D(32, (4,4), activation='relu', kernel_initializer='he_uniform', input_shape=(28, 28, 1)),ation Accuracy')\n",
    "\t\tpyplot.plot(histories[i].history['accuracy'], color='blue', label='train')\n",
    "\t\tpyplot.plot(histories[i].history['val_accuracy'], color='orange', label='test')\n",
    "\tpyplot.show()"
   ]
  },
  {
   "cell_type": "code",
   "execution_count": 10,
   "metadata": {},
   "outputs": [],
   "source": [
    "# summarize model performance\n",
    "def summarize_performance(scores):\n",
    "\t# print summary\n",
    "\tprint('Accuracy: mean=%.3f std=%.3f, n=%d' % (mean(scores)*100, std(scores)*100, len(scores)))\n",
    "\t# box and whisker plots of results\n",
    "\tpyplot.boxplot(scores)\n",
    "\tpyplot.show()"
   ]
  },
  {
   "cell_type": "code",
   "execution_count": 11,
   "metadata": {},
   "outputs": [],
   "source": [
    "def run_test_harness():\n",
    "\t# load dataset\n",
    "\ttrainX, trainY, testX, testY = load_dataset()\n",
    "\t# prepare pixel data\n",
    "\ttrainX, testX = prep_pixels(trainX, testX)\n",
    "\t# evaluate model\n",
    "\tscores, histories = evaluate_model(trainX, trainY)\n",
    "\t# learning curves\n",
    "\tsummarize_diagnostics(histories)\n",
    "\t# summarize estimated performance\n",
    "\tsummarize_performance(scores)"
   ]
  },
  {
   "cell_type": "code",
   "execution_count": 12,
   "metadata": {},
   "outputs": [
    {
     "name": "stdout",
     "output_type": "stream",
     "text": [
      "Model: \"sequential\"\n",
      "_________________________________________________________________\n",
      " Layer (type)                Output Shape              Param #   \n",
      "=================================================================\n",
      " conv2d (Conv2D)             (None, 26, 26, 32)        320       \n",
      "                                                                 \n",
      " max_pooling2d (MaxPooling2D  (None, 13, 13, 32)       0         \n",
      " )                                                               \n",
      "                                                                 \n",
      " flatten (Flatten)           (None, 5408)              0         \n",
      "                                                                 \n",
      " dense (Dense)               (None, 100)               540900    \n",
      "                                                                 \n",
      " dense_1 (Dense)             (None, 10)                1010      \n",
      "                                                                 \n",
      "=================================================================\n",
      "Total params: 542,230\n",
      "Trainable params: 542,230\n",
      "Non-trainable params: 0\n",
      "_________________________________________________________________\n"
     ]
    },
    {
     "name": "stderr",
     "output_type": "stream",
     "text": [
      "2023-02-08 09:52:11.496669: I tensorflow/core/platform/cpu_feature_guard.cc:193] This TensorFlow binary is optimized with oneAPI Deep Neural Network Library (oneDNN) to use the following CPU instructions in performance-critical operations:  SSE4.1 SSE4.2 AVX AVX2 FMA\n",
      "To enable them in other operations, rebuild TensorFlow with the appropriate compiler flags.\n",
      "2023-02-08 09:52:11.497796: I tensorflow/core/common_runtime/process_util.cc:146] Creating new thread pool with default inter op setting: 2. Tune using inter_op_parallelism_threads for best performance.\n"
     ]
    },
    {
     "name": "stdout",
     "output_type": "stream",
     "text": [
      "None\n",
      "Epoch 1/10\n",
      "1500/1500 [==============================] - 76s 50ms/step - loss: 0.4785 - accuracy: 0.8505 - val_loss: 0.3258 - val_accuracy: 0.8799\n",
      "Epoch 2/10\n",
      "1500/1500 [==============================] - 83s 56ms/step - loss: 0.2942 - accuracy: 0.8917 - val_loss: 0.3028 - val_accuracy: 0.8875\n",
      "Epoch 3/10\n",
      "1500/1500 [==============================] - 70s 47ms/step - loss: 0.2648 - accuracy: 0.9022 - val_loss: 0.3177 - val_accuracy: 0.8894\n",
      "Epoch 4/10\n",
      "1500/1500 [==============================] - 82s 55ms/step - loss: 0.2430 - accuracy: 0.9099 - val_loss: 0.3276 - val_accuracy: 0.8911\n",
      "Epoch 5/10\n",
      "1500/1500 [==============================] - 86s 57ms/step - loss: 0.2214 - accuracy: 0.9173 - val_loss: 0.3563 - val_accuracy: 0.8897\n",
      "Epoch 6/10\n",
      "1500/1500 [==============================] - 81s 54ms/step - loss: 0.2101 - accuracy: 0.9219 - val_loss: 0.3768 - val_accuracy: 0.8833\n",
      "Epoch 7/10\n",
      "1500/1500 [==============================] - 78s 52ms/step - loss: 0.1913 - accuracy: 0.9287 - val_loss: 0.3986 - val_accuracy: 0.8820\n",
      "Epoch 8/10\n",
      "1500/1500 [==============================] - 88s 59ms/step - loss: 0.1943 - accuracy: 0.9288 - val_loss: 0.4454 - val_accuracy: 0.8909\n",
      "Epoch 9/10\n",
      "1500/1500 [==============================] - 81s 54ms/step - loss: 0.1746 - accuracy: 0.9349 - val_loss: 0.4479 - val_accuracy: 0.8853\n",
      "Epoch 10/10\n",
      "1500/1500 [==============================] - 84s 56ms/step - loss: 0.1673 - accuracy: 0.9381 - val_loss: 0.5255 - val_accuracy: 0.8838\n",
      "> 88.383\n",
      "Model: \"sequential_1\"\n",
      "_________________________________________________________________\n",
      " Layer (type)                Output Shape              Param #   \n",
      "=================================================================\n",
      " conv2d_1 (Conv2D)           (None, 26, 26, 32)        320       \n",
      "                                                                 \n",
      " max_pooling2d_1 (MaxPooling  (None, 13, 13, 32)       0         \n",
      " 2D)                                                             \n",
      "                                                                 \n",
      " flatten_1 (Flatten)         (None, 5408)              0         \n",
      "                                                                 \n",
      " dense_2 (Dense)             (None, 100)               540900    \n",
      "                                                                 \n",
      " dense_3 (Dense)             (None, 10)                1010      \n",
      "                                                                 \n",
      "=================================================================\n",
      "Total params: 542,230\n",
      "Trainable params: 542,230\n",
      "Non-trainable params: 0\n",
      "_________________________________________________________________\n",
      "None\n",
      "Epoch 1/10\n",
      "1500/1500 [==============================] - 83s 55ms/step - loss: 0.4511 - accuracy: 0.8547 - val_loss: 0.3191 - val_accuracy: 0.8833\n",
      "Epoch 2/10\n",
      "1500/1500 [==============================] - 83s 56ms/step - loss: 0.2920 - accuracy: 0.8931 - val_loss: 0.3028 - val_accuracy: 0.8897\n",
      "Epoch 3/10\n",
      "1500/1500 [==============================] - 76s 51ms/step - loss: 0.2593 - accuracy: 0.9040 - val_loss: 0.3363 - val_accuracy: 0.8832\n",
      "Epoch 4/10\n",
      "1500/1500 [==============================] - 76s 51ms/step - loss: 0.2327 - accuracy: 0.9131 - val_loss: 0.3335 - val_accuracy: 0.8874\n",
      "Epoch 5/10\n",
      "1500/1500 [==============================] - 84s 56ms/step - loss: 0.2182 - accuracy: 0.9199 - val_loss: 0.3599 - val_accuracy: 0.8848\n",
      "Epoch 6/10\n",
      "1500/1500 [==============================] - 85s 56ms/step - loss: 0.2049 - accuracy: 0.9256 - val_loss: 0.3964 - val_accuracy: 0.8910\n",
      "Epoch 7/10\n",
      "1500/1500 [==============================] - 86s 57ms/step - loss: 0.1883 - accuracy: 0.9309 - val_loss: 0.4417 - val_accuracy: 0.8839\n",
      "Epoch 8/10\n",
      "1500/1500 [==============================] - 82s 55ms/step - loss: 0.1753 - accuracy: 0.9352 - val_loss: 0.4539 - val_accuracy: 0.8826\n",
      "Epoch 9/10\n",
      "1500/1500 [==============================] - 83s 56ms/step - loss: 0.1734 - accuracy: 0.9375 - val_loss: 0.4688 - val_accuracy: 0.8851\n",
      "Epoch 10/10\n",
      "1500/1500 [==============================] - 92s 61ms/step - loss: 0.1620 - accuracy: 0.9420 - val_loss: 0.5330 - val_accuracy: 0.8797\n",
      "> 87.967\n",
      "Model: \"sequential_2\"\n",
      "_________________________________________________________________\n",
      " Layer (type)                Output Shape              Param #   \n",
      "=================================================================\n",
      " conv2d_2 (Conv2D)           (None, 26, 26, 32)        320       \n",
      "                                                                 \n",
      " max_pooling2d_2 (MaxPooling  (None, 13, 13, 32)       0         \n",
      " 2D)                                                             \n",
      "                                                                 \n",
      " flatten_2 (Flatten)         (None, 5408)              0         \n",
      "                                                                 \n",
      " dense_4 (Dense)             (None, 100)               540900    \n",
      "                                                                 \n",
      " dense_5 (Dense)             (None, 10)                1010      \n",
      "                                                                 \n",
      "=================================================================\n",
      "Total params: 542,230\n",
      "Trainable params: 542,230\n",
      "Non-trainable params: 0\n",
      "_________________________________________________________________\n",
      "None\n",
      "Epoch 1/10\n",
      " 650/1500 [============>.................] - ETA: 44s - loss: 0.6215 - accuracy: 0.8283"
     ]
    }
   ],
   "source": [
    "run_test_harness()"
   ]
  },
  {
   "cell_type": "code",
   "execution_count": null,
   "metadata": {},
   "outputs": [],
   "source": []
  }
 ],
 "metadata": {
  "kernelspec": {
   "display_name": "ai_ml",
   "language": "python",
   "name": "python3"
  },
  "language_info": {
   "codemirror_mode": {
    "name": "ipython",
    "version": 3
   },
   "file_extension": ".py",
   "mimetype": "text/x-python",
   "name": "python",
   "nbconvert_exporter": "python",
   "pygments_lexer": "ipython3",
   "version": "3.10.8"
  },
  "orig_nbformat": 4,
  "vscode": {
   "interpreter": {
    "hash": "675e5e662f103e0f338aafe09665377a2c199018438416d404abaa898c5fcab6"
   }
  }
 },
 "nbformat": 4,
 "nbformat_minor": 2
}

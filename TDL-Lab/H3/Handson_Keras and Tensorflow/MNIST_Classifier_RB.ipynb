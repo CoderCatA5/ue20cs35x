{
 "cells": [
  {
   "cell_type": "code",
   "execution_count": 1,
   "id": "85a10e49",
   "metadata": {},
   "outputs": [
    {
     "name": "stderr",
     "output_type": "stream",
     "text": [
      "2023-01-25 10:08:04.989918: I tensorflow/core/platform/cpu_feature_guard.cc:193] This TensorFlow binary is optimized with oneAPI Deep Neural Network Library (oneDNN) to use the following CPU instructions in performance-critical operations:  SSE4.1 SSE4.2 AVX AVX2 FMA\n",
      "To enable them in other operations, rebuild TensorFlow with the appropriate compiler flags.\n",
      "2023-01-25 10:08:07.497136: I tensorflow/core/platform/cpu_feature_guard.cc:193] This TensorFlow binary is optimized with oneAPI Deep Neural Network Library (oneDNN) to use the following CPU instructions in performance-critical operations:  SSE4.1 SSE4.2 AVX AVX2 FMA\n",
      "To enable them in other operations, rebuild TensorFlow with the appropriate compiler flags.\n",
      "2023-01-25 10:08:07.498452: I tensorflow/core/common_runtime/process_util.cc:146] Creating new thread pool with default inter op setting: 2. Tune using inter_op_parallelism_threads for best performance.\n"
     ]
    }
   ],
   "source": [
    "import tensorflow a\n",
    "mnist = tf.keras.datasets.mnist\n",
    "(X_train, y_train), (X_test, y_test) = mnist.load_data()\n",
    "X_train, X_test = X_train / 255.0, X_test / 255.0\n",
    "\n",
    "model = tf.keras.models.Sequential([\n",
    "   tf.keras.layers.Flatten(input_shape=(28, 28)),\n",
    "   tf.keras.layers.Dense(512, activation='relu'),\n",
    "   tf.keras.layers.Dropout(0.2),\n",
    "   tf.keras.layers.Dense(10, activation='softmax')])\n",
    "\n",
    "model.compile(optimizer='sgd',\n",
    "   loss='sparse_categorical_crossentropy',\n",
    "   metrics=['accuracy'])"
   ]
  },
  {
   "cell_type": "code",
   "execution_count": 2,
   "id": "9569b892",
   "metadata": {},
   "outputs": [
    {
     "name": "stdout",
     "output_type": "stream",
     "text": [
      "Epoch 1/10\n",
      "1500/1500 [==============================] - 31s 20ms/step - loss: 0.7078 - accuracy: 0.8203 - val_loss: 0.3649 - val_accuracy: 0.9045\n",
      "Epoch 2/10\n",
      "1500/1500 [==============================] - 18s 12ms/step - loss: 0.3710 - accuracy: 0.8961 - val_loss: 0.2960 - val_accuracy: 0.9195\n",
      "Epoch 3/10\n",
      "1500/1500 [==============================] - 18s 12ms/step - loss: 0.3137 - accuracy: 0.9113 - val_loss: 0.2625 - val_accuracy: 0.9274\n",
      "Epoch 4/10\n",
      "1500/1500 [==============================] - 17s 12ms/step - loss: 0.2782 - accuracy: 0.9219 - val_loss: 0.2384 - val_accuracy: 0.9342\n",
      "Epoch 5/10\n",
      "1500/1500 [==============================] - 20s 14ms/step - loss: 0.2527 - accuracy: 0.9297 - val_loss: 0.2199 - val_accuracy: 0.9401\n",
      "Epoch 6/10\n",
      "1500/1500 [==============================] - 23s 16ms/step - loss: 0.2305 - accuracy: 0.9349 - val_loss: 0.2037 - val_accuracy: 0.9443\n",
      "Epoch 7/10\n",
      " 986/1500 [==================>...........] - ETA: 6s - loss: 0.2157 - accuracy: 0.9401"
     ]
    }
   ],
   "source": [
    "model.fit(X_train, y_train,epochs=10, validation_split=0.2)"
   ]
  },
  {
   "cell_type": "code",
   "execution_count": null,
   "id": "f722e64b",
   "metadata": {},
   "outputs": [
    {
     "name": "stdout",
     "output_type": "stream",
     "text": [
      "Test loss:  0.2977764308452606\n",
      "Test accuracy:  0.9194999933242798\n"
     ]
    }
   ],
   "source": [
    "score = model.evaluate(X_test, y_test, verbose =0)\n",
    "print(\"Test loss: \" ,score[0])\n",
    "print(\"Test accuracy: \" ,score[1])"
   ]
  },
  {
   "cell_type": "code",
   "execution_count": null,
   "id": "d2287493",
   "metadata": {},
   "outputs": [
    {
     "name": "stdout",
     "output_type": "stream",
     "text": [
      "1/1 [==============================] - 0s 108ms/step\n"
     ]
    },
    {
     "data": {
      "text/plain": [
       "array([[3.3074425e-04, 9.5450860e-01, 1.3507936e-02, 6.1212233e-03,\n",
       "        9.3343074e-04, 2.5537799e-03, 3.5345829e-03, 6.3344543e-03,\n",
       "        9.7115980e-03, 2.4635370e-03]], dtype=float32)"
      ]
     },
     "execution_count": 4,
     "metadata": {},
     "output_type": "execute_result"
    }
   ],
   "source": [
    "model.predict(X_test[2:3])"
   ]
  },
  {
   "cell_type": "code",
   "execution_count": null,
   "id": "c51f273e",
   "metadata": {},
   "outputs": [
    {
     "name": "stdout",
     "output_type": "stream",
     "text": [
      "1/1 [==============================] - 0s 29ms/step\n",
      "Prediction\n",
      " [[2.3433946e-04 5.0059730e-06 2.7934911e-03 2.1876704e-05 1.7118843e-02\n",
      "  1.8206776e-04 9.7898841e-01 8.9333895e-05 3.0883934e-04 2.5782944e-04]]\n",
      "\n",
      "Thresholded output\n",
      " [[0 0 0 0 0 0 1 0 0 0]]\n"
     ]
    }
   ],
   "source": [
    "# Prediction\n",
    "prediction = model.predict(X_test[88:89])\n",
    "#prediction= prediction[0]\n",
    "print(\"Prediction\\n\", prediction)\n",
    "print(\"\\nThresholded output\\n\",(prediction>0.5)*1)"
   ]
  },
  {
   "cell_type": "code",
   "execution_count": null,
   "id": "abfba90e",
   "metadata": {},
   "outputs": [],
   "source": []
  }
 ],
 "metadata": {
  "kernelspec": {
   "display_name": "ai_ml",
   "language": "python",
   "name": "python3"
  },
  "language_info": {
   "codemirror_mode": {
    "name": "ipython",
    "version": 3
   },
   "file_extension": ".py",
   "mimetype": "text/x-python",
   "name": "python",
   "nbconvert_exporter": "python",
   "pygments_lexer": "ipython3",
   "version": "3.10.8"
  },
  "vscode": {
   "interpreter": {
    "hash": "675e5e662f103e0f338aafe09665377a2c199018438416d404abaa898c5fcab6"
   }
  }
 },
 "nbformat": 4,
 "nbformat_minor": 5
}

{
 "cells": [
  {
   "cell_type": "code",
   "execution_count": 1,
   "id": "7c811c4c",
   "metadata": {},
   "outputs": [
    {
     "name": "stderr",
     "output_type": "stream",
     "text": [
      "2023-01-25 09:04:43.507800: I tensorflow/core/platform/cpu_feature_guard.cc:193] This TensorFlow binary is optimized with oneAPI Deep Neural Network Library (oneDNN) to use the following CPU instructions in performance-critical operations:  SSE4.1 SSE4.2 AVX AVX2 FMA\n",
      "To enable them in other operations, rebuild TensorFlow with the appropriate compiler flags.\n"
     ]
    },
    {
     "name": "stdout",
     "output_type": "stream",
     "text": [
      "Tensorflow version: 2.10.0\n"
     ]
    }
   ],
   "source": [
    "import warnings\n",
    "warnings.filterwarnings('ignore')\n",
    "import tensorflow as tf\n",
    "print(\"Tensorflow version:\",tf.__version__)\n",
    "from tensorflow import keras\n",
    "import numpy as np\n",
    "import matplotlib.pyplot as plt\n",
    "from keras.optimizers import RMSprop\n",
    "from tensorflow.python.keras.callbacks import TensorBoard\n",
    "from time import time"
   ]
  },
  {
   "cell_type": "code",
   "execution_count": 2,
   "id": "91cfa9c4",
   "metadata": {},
   "outputs": [],
   "source": [
    "mnist= tf.keras.datasets.mnist"
   ]
  },
  {
   "cell_type": "code",
   "execution_count": 3,
   "id": "724460a8",
   "metadata": {},
   "outputs": [
    {
     "name": "stdout",
     "output_type": "stream",
     "text": [
      "Downloading data from https://storage.googleapis.com/tensorflow/tf-keras-datasets/mnist.npz\n",
      "11490434/11490434 [==============================] - 5s 0us/step\n"
     ]
    }
   ],
   "source": [
    "num_classes=10\n",
    "(xtrain,ytrain),(xtest,ytest)= mnist.load_data()\n",
    "xtrain = xtrain.reshape(60000,784)\n",
    "xtest =xtest.reshape(10000,784)\n"
   ]
  },
  {
   "cell_type": "code",
   "execution_count": 4,
   "id": "a4a5aa6a",
   "metadata": {},
   "outputs": [
    {
     "name": "stdout",
     "output_type": "stream",
     "text": [
      "60000 train_samples\n",
      "10000 test_samples\n"
     ]
    }
   ],
   "source": [
    "# Normalize to 0 to 1 range\n",
    "xtrain, xtest = xtrain/255.0, xtest/255.0\n",
    "print(xtrain.shape[0],'train_samples')\n",
    "print(xtest.shape[0],'test_samples')"
   ]
  },
  {
   "cell_type": "code",
   "execution_count": 5,
   "id": "3a9000cd",
   "metadata": {},
   "outputs": [],
   "source": [
    "# Convert class vectors to binary class matrices\n",
    "ytrain=keras.utils.to_categorical(ytrain,num_classes)\n",
    "ytest=keras.utils.to_categorical(ytest,num_classes)"
   ]
  },
  {
   "cell_type": "code",
   "execution_count": 6,
   "id": "fe7435a4",
   "metadata": {},
   "outputs": [
    {
     "name": "stdout",
     "output_type": "stream",
     "text": [
      "Label: [[1. 0. 0. 0. 0. 0. 0. 0. 0. 0.]]\n"
     ]
    },
    {
     "data": {
      "image/png": "[encoded data removed]",
      "text/plain": [
       "<Figure size 640x480 with 1 Axes>"
      ]
     },
     "metadata": {},
     "output_type": "display_data"
    }
   ],
   "source": [
    "# Visualize data\n",
    "print(\"Label:\", ytest[3:4])\n",
    "plt.imshow(xtest[3:4].reshape(28,28),cmap='gray')\n",
    "plt.show()"
   ]
  },
  {
   "cell_type": "code",
   "execution_count": 7,
   "id": "df42b977",
   "metadata": {},
   "outputs": [
    {
     "name": "stdout",
     "output_type": "stream",
     "text": [
      "Model: \"sequential\"\n",
      "_________________________________________________________________\n",
      " Layer (type)                Output Shape              Param #   \n",
      "=================================================================\n",
      " dense (Dense)               (None, 32)                25120     \n",
      "                                                                 \n",
      " dense_1 (Dense)             (None, 32)                1056      \n",
      "                                                                 \n",
      " dense_2 (Dense)             (None, 32)                1056      \n",
      "                                                                 \n",
      " dense_3 (Dense)             (None, 10)                330       \n",
      "                                                                 \n",
      "=================================================================\n",
      "Total params: 27,562\n",
      "Trainable params: 27,562\n",
      "Non-trainable params: 0\n",
      "_________________________________________________________________\n"
     ]
    },
    {
     "name": "stderr",
     "output_type": "stream",
     "text": [
      "2023-01-25 09:04:52.482156: I tensorflow/core/platform/cpu_feature_guard.cc:193] This TensorFlow binary is optimized with oneAPI Deep Neural Network Library (oneDNN) to use the following CPU instructions in performance-critical operations:  SSE4.1 SSE4.2 AVX AVX2 FMA\n",
      "To enable them in other operations, rebuild TensorFlow with the appropriate compiler flags.\n",
      "2023-01-25 09:04:52.482744: I tensorflow/core/common_runtime/process_util.cc:146] Creating new thread pool with default inter op setting: 2. Tune using inter_op_parallelism_threads for best performance.\n"
     ]
    }
   ],
   "source": [
    "# Design a model\n",
    "model = tf.keras.models.Sequential([\n",
    "    tf.keras.layers.Dense(32,activation='sigmoid',input_shape=(784,)),\n",
    "    tf.keras.layers.Dense(32, activation= 'sigmoid'),\n",
    "    tf.keras.layers.Dense(32, activation= 'sigmoid'),\n",
    "    tf.keras.layers.Dense(num_classes, activation='softmax')    \n",
    "])\n",
    "\n",
    "model.summary()"
   ]
  },
  {
   "cell_type": "code",
   "execution_count": 8,
   "id": "1861b9b8",
   "metadata": {},
   "outputs": [],
   "source": [
    "tf_callback=tf.keras.callbacks.TensorBoard(log_dir=\"./logs\", histogram_freq=0)"
   ]
  },
  {
   "cell_type": "code",
   "execution_count": 9,
   "id": "222d1298",
   "metadata": {},
   "outputs": [
    {
     "data": {
      "text/plain": [
       "<keras.layers.core.dense.Dense at 0x7fbd2f527b80>"
      ]
     },
     "execution_count": 9,
     "metadata": {},
     "output_type": "execute_result"
    }
   ],
   "source": [
    "model.compile(optimizer='RMSprop',\n",
    "              loss='categorical_crossentropy',\n",
    "              metrics=['accuracy'])\n",
    "tf.keras.layers.Dense(32, activation= 'sigmoid')"
   ]
  },
  {
   "cell_type": "code",
   "execution_count": 10,
   "id": "198bb802",
   "metadata": {},
   "outputs": [
    {
     "name": "stdout",
     "output_type": "stream",
     "text": [
      "Epoch 1/2\n",
      "1875/1875 [==============================] - 11s 6ms/step - loss: 0.9772 - accuracy: 0.7292\n",
      "Epoch 2/2\n",
      "1875/1875 [==============================] - 8s 4ms/step - loss: 0.3578 - accuracy: 0.9050\n"
     ]
    }
   ],
   "source": [
    "# Training\n",
    "history = model.fit(xtrain, ytrain, epochs=2, callbacks=[tf_callback]) "
   ]
  },
  {
   "cell_type": "code",
   "execution_count": 11,
   "id": "acca1cfc",
   "metadata": {},
   "outputs": [
    {
     "name": "stdout",
     "output_type": "stream",
     "text": [
      "Test loss:  0.3083878457546234\n",
      "Test accuracy:  0.9179999828338623\n"
     ]
    }
   ],
   "source": [
    "#Testing\n",
    "score = model.evaluate(xtest, ytest, verbose =0)\n",
    "print(\"Test loss: \" ,score[0])\n",
    "print(\"Test accuracy: \" ,score[1])"
   ]
  },
  {
   "cell_type": "code",
   "execution_count": 12,
   "id": "b80afe79",
   "metadata": {},
   "outputs": [
    {
     "name": "stdout",
     "output_type": "stream",
     "text": [
      "1/1 [==============================] - 0s 93ms/step\n",
      "Prediction\n",
      " [2.3550770e-04 1.3914487e-04 7.3188529e-03 3.6403497e-05 9.4390400e-03\n",
      " 7.8589350e-05 9.8251593e-01 7.1254397e-07 1.6001309e-04 7.5727112e-05]\n",
      "\n",
      "Thresholded output\n",
      " [0 0 0 0 0 0 1 0 0 0]\n"
     ]
    }
   ],
   "source": [
    "# Prediction\n",
    "prediction = model.predict(xtest[88:89])\n",
    "prediction= prediction[0]\n",
    "print(\"Prediction\\n\", prediction)\n",
    "print(\"\\nThresholded output\\n\",(prediction>0.5)*1)"
   ]
  },
  {
   "cell_type": "code",
   "execution_count": 13,
   "id": "f824b720",
   "metadata": {},
   "outputs": [
    {
     "data": {
      "text/plain": [
       "0.9999999222112592"
      ]
     },
     "execution_count": 13,
     "metadata": {},
     "output_type": "execute_result"
    }
   ],
   "source": [
    "sum(prediction)"
   ]
  },
  {
   "cell_type": "code",
   "execution_count": 14,
   "id": "59576cf2",
   "metadata": {},
   "outputs": [
    {
     "data": {
      "image/png": "[encoded data removed]",
      "text/plain": [
       "<Figure size 640x480 with 1 Axes>"
      ]
     },
     "metadata": {},
     "output_type": "display_data"
    }
   ],
   "source": [
    "# Ground truth( Actual value)\n",
    "plt.imshow(xtest[88:89].reshape(28,28),cmap='gray')\n",
    "plt.show()"
   ]
  },
  {
   "cell_type": "code",
   "execution_count": 15,
   "id": "bbaf2780",
   "metadata": {},
   "outputs": [
    {
     "name": "stderr",
     "output_type": "stream",
     "text": [
      "UsageError: Line magic function `%tensorboard` not found.\n"
     ]
    }
   ],
   "source": [
    "#%load_ext tensorboard\n",
    "%tensorboard --logdir logs"
   ]
  },
  {
   "cell_type": "code",
   "execution_count": null,
   "id": "cb60ee61",
   "metadata": {},
   "outputs": [],
   "source": []
  }
 ],
 "metadata": {
  "kernelspec": {
   "display_name": "ai_ml",
   "language": "python",
   "name": "python3"
  },
  "language_info": {
   "codemirror_mode": {
    "name": "ipython",
    "version": 3
   },
   "file_extension": ".py",
   "mimetype": "text/x-python",
   "name": "python",
   "nbconvert_exporter": "python",
   "pygments_lexer": "ipython3",
   "version": "3.10.8 (main, Nov 24 2022, 14:13:03) [GCC 11.2.0]"
  },
  "vscode": {
   "interpreter": {
    "hash": "675e5e662f103e0f338aafe09665377a2c199018438416d404abaa898c5fcab6"
   }
  }
 },
 "nbformat": 4,
 "nbformat_minor": 5
}

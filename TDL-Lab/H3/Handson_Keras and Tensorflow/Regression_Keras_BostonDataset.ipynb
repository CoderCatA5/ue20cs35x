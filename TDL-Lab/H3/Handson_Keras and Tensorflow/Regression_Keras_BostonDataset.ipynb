{
  "cells": [
    {
      "cell_type": "code",
      "execution_count": null,
      "metadata": {
        "id": "-rZV7plKbn6g"
      },
      "outputs": [],
      "source": []
    },
    {
      "cell_type": "markdown",
      "metadata": {
        "id": "-PR3InfYbwEK"
      },
      "source": [
        "# **Keras Neural Network Design for Regression**\n",
        "Here are the key aspects of designing neural network for prediction continuous numerical value as part of regression problem.\n",
        "\n",
        "The neural network will consist of dense layers or fully connected layers. Fully connected layers are those in which each of the nodes of one layer is connected to every other nodes in the next layer.\n",
        "First hidden layer will be configured with input_shape having same value as number of input features.\n",
        "The final layer would not need to have activation function set as the expected output or prediction needs to be a continuous numerical value.\n",
        "The final layer would need to have just one node.\n"
      ]
    },
    {
      "cell_type": "markdown",
      "metadata": {
        "id": "WuKxxLVxg9WP"
      },
      "source": [
        "# **The core features of the model are as follows −**\n",
        "\n",
        "Input layer consists of (13,) values.\n",
        "First layer, Dense consists of 64 units and ‘relu’ activation function with ‘normal’ kernel initializer.\n",
        "Second layer, Dense consists of 64 units and ‘relu’ activation function.\n",
        "Output layer, Dense consists of 1 unit.\n",
        "Use mse as loss function.\n",
        "Use RMSprop as Optimizer.\n",
        "Use accuracy as metrics.\n",
        "Use 128 as batch size.\n",
        "Use 500 as epochs.\n",
        "\n",
        "\n",
        "\n",
        "\n",
        "\n",
        "\n",
        "\n",
        "\n",
        "\n"
      ]
    },
    {
      "cell_type": "markdown",
      "metadata": {
        "id": "avPsrjhBb_AF"
      },
      "source": [
        "# **Step 1 − Import the modules**"
      ]
    },
    {
      "cell_type": "code",
      "execution_count": 1,
      "metadata": {
        "id": "jQNjvfV2cCDE"
      },
      "outputs": [
        {
          "name": "stderr",
          "output_type": "stream",
          "text": [
            "2023-01-25 09:02:24.774825: I tensorflow/core/platform/cpu_feature_guard.cc:193] This TensorFlow binary is optimized with oneAPI Deep Neural Network Library (oneDNN) to use the following CPU instructions in performance-critical operations:  SSE4.1 SSE4.2 AVX AVX2 FMA\n",
            "To enable them in other operations, rebuild TensorFlow with the appropriate compiler flags.\n"
          ]
        }
      ],
      "source": [
        "import keras \n",
        "\n",
        "from keras.datasets import boston_housing \n",
        "from keras.models import Sequential \n",
        "from keras.layers import Dense \n",
        "from keras.optimizers import RMSprop \n",
        "from keras.callbacks import EarlyStopping \n",
        "from sklearn import preprocessing \n",
        "from sklearn.preprocessing import scale"
      ]
    },
    {
      "cell_type": "markdown",
      "metadata": {
        "id": "j_bUHHZDc0AD"
      },
      "source": [
        "# **Step 2 − Load data**\n",
        "boston_housing is a dataset provided by Keras. It represents a collection of housing information in Boston area, each having 13 features.\n",
        "he Boston House Price dataset. Each record in the database describes a Boston suburb or town. The data was drawn from the Boston Standard Metropolitan Statistical Area (SMSA) in 1970. The attributes are defined as follows (taken from the UCI Machine Learning Repository):\n",
        "\n",
        "CRIM: per capita crime rate by town\n",
        "ZN: proportion of residential land zoned for lots over 25,000 sq.ft.\n",
        "INDUS: proportion of non-retail business acres per town\n",
        "CHAS: Charles River dummy variable (= 1 if tract bounds river; 0 otherwise)\n",
        "NOX: nitric oxides concentration (parts per 10 million)\n",
        "RM: average number of rooms per dwelling\n",
        "AGE: proportion of owner-occupied units built prior to 1940\n",
        "DIS: weighted distances to five Boston employment centers\n",
        "RAD: index of accessibility to radial highways\n",
        "TAX: full-value property-tax rate per $10,000\n",
        "PTRATIO: pupil-teacher ratio by town\n",
        "B:  is the proportion of blacks by town\n",
        "LSTAT: % lower status of the population\n",
        "MEDV: Median value of owner-occupied homes in $1000s"
      ]
    },
    {
      "cell_type": "code",
      "execution_count": 2,
      "metadata": {
        "colab": {
          "base_uri": "https://localhost:8080/"
        },
        "id": "KCv_UpJsc5-K",
        "outputId": "cc8aaf70-dd71-4223-af6f-a4359273a539"
      },
      "outputs": [],
      "source": [
        "(x_train, y_train), (x_test, y_test) = boston_housing.load_data()"
      ]
    },
    {
      "cell_type": "markdown",
      "metadata": {
        "id": "gererKHCdlvL"
      },
      "source": [
        "# **Step 3 − Process the data**\n",
        "\n",
        "Let us change the dataset according to our model, so that, we can feed into our model. The data can be changed using below code −Here, we have normalized the training data using sklearn.preprocessing.scale function. preprocessing.StandardScaler().fit function returns a scalar with the normalized mean and standard deviation of the training data, which we can apply to the test data using scalar.transform function. This will normalize the test data as well with the same setting as that of training data."
      ]
    },
    {
      "cell_type": "code",
      "execution_count": 3,
      "metadata": {
        "id": "iHqx9Gqvd19k"
      },
      "outputs": [],
      "source": [
        "x_train_scaled = preprocessing.scale(x_train) \n",
        "scaler = preprocessing.StandardScaler().fit(x_train) \n",
        "x_test_scaled = scaler.transform(x_test)"
      ]
    },
    {
      "cell_type": "markdown",
      "metadata": {
        "id": "LsSZTJFSd7O4"
      },
      "source": []
    },
    {
      "cell_type": "markdown",
      "metadata": {
        "id": "a6yUvfHNeC1s"
      },
      "source": [
        "# **Step 4 − Create the model**"
      ]
    },
    {
      "cell_type": "code",
      "execution_count": 4,
      "metadata": {
        "id": "MLHxbdBseG3P"
      },
      "outputs": [
        {
          "name": "stderr",
          "output_type": "stream",
          "text": [
            "2023-01-25 09:02:27.155549: I tensorflow/core/platform/cpu_feature_guard.cc:193] This TensorFlow binary is optimized with oneAPI Deep Neural Network Library (oneDNN) to use the following CPU instructions in performance-critical operations:  SSE4.1 SSE4.2 AVX AVX2 FMA\n",
            "To enable them in other operations, rebuild TensorFlow with the appropriate compiler flags.\n",
            "2023-01-25 09:02:27.156734: I tensorflow/core/common_runtime/process_util.cc:146] Creating new thread pool with default inter op setting: 2. Tune using inter_op_parallelism_threads for best performance.\n"
          ]
        }
      ],
      "source": [
        "model = Sequential() \n",
        "model.add(Dense(64, kernel_initializer = 'normal', activation = 'relu',input_shape = (13,))) \n",
        "model.add(Dense(64, activation = 'relu')) \n",
        "model.add(Dense(1))"
      ]
    },
    {
      "cell_type": "markdown",
      "metadata": {
        "id": "xf4NZengeWiA"
      },
      "source": [
        "# **Step 5 − Compile the model**\n",
        "compile the model using selected loss function, optimizer and metrics."
      ]
    },
    {
      "cell_type": "code",
      "execution_count": 5,
      "metadata": {
        "id": "o6w642GhefCw"
      },
      "outputs": [],
      "source": [
        "model.compile(   loss = 'mse',    optimizer = RMSprop(),    metrics = ['mean_absolute_error'])"
      ]
    },
    {
      "cell_type": "markdown",
      "metadata": {
        "id": "tfEN7zpxerOv"
      },
      "source": [
        "# **Step 6 − Train the model**\n",
        "\n",
        "Let us train the model using fit() method.\n",
        "Here, we have used callback function, EarlyStopping. The purpose of this callback is to monitor the loss value during each epoch and compare it with previous epoch loss value to find the improvement in the training. If there is no improvement for the patience times, then the whole process will be stopped."
      ]
    },
    {
      "cell_type": "code",
      "execution_count": 6,
      "metadata": {
        "colab": {
          "base_uri": "https://localhost:8080/"
        },
        "id": "I3fRBlvretRk",
        "outputId": "8fd2a98d-678e-461d-8950-08bae9596e98"
      },
      "outputs": [
        {
          "name": "stdout",
          "output_type": "stream",
          "text": [
            "Epoch 1/500\n",
            "3/3 [==============================] - 1s 158ms/step - loss: 574.3759 - mean_absolute_error: 22.1252 - val_loss: 636.3852 - val_mean_absolute_error: 23.4713\n",
            "Epoch 2/500\n",
            "3/3 [==============================] - 0s 72ms/step - loss: 561.9767 - mean_absolute_error: 21.8255 - val_loss: 625.8999 - val_mean_absolute_error: 23.2352\n",
            "Epoch 3/500\n",
            "3/3 [==============================] - 0s 48ms/step - loss: 551.8321 - mean_absolute_error: 21.5793 - val_loss: 614.9897 - val_mean_absolute_error: 22.9899\n",
            "Epoch 4/500\n",
            "3/3 [==============================] - 0s 25ms/step - loss: 541.3159 - mean_absolute_error: 21.3185 - val_loss: 603.6532 - val_mean_absolute_error: 22.7225\n",
            "Epoch 5/500\n",
            "3/3 [==============================] - 0s 76ms/step - loss: 529.7205 - mean_absolute_error: 21.0293 - val_loss: 590.6299 - val_mean_absolute_error: 22.4127\n",
            "Epoch 6/500\n",
            "3/3 [==============================] - 0s 45ms/step - loss: 516.5797 - mean_absolute_error: 20.6942 - val_loss: 576.6575 - val_mean_absolute_error: 22.0755\n",
            "Epoch 7/500\n",
            "3/3 [==============================] - 0s 47ms/step - loss: 502.4449 - mean_absolute_error: 20.3314 - val_loss: 561.2693 - val_mean_absolute_error: 21.7000\n",
            "Epoch 8/500\n",
            "3/3 [==============================] - 0s 22ms/step - loss: 486.9999 - mean_absolute_error: 19.9274 - val_loss: 544.3201 - val_mean_absolute_error: 21.2874\n",
            "Epoch 9/500\n",
            "3/3 [==============================] - 0s 30ms/step - loss: 470.1494 - mean_absolute_error: 19.4979 - val_loss: 526.3657 - val_mean_absolute_error: 20.8562\n",
            "Epoch 10/500\n",
            "3/3 [==============================] - 0s 50ms/step - loss: 452.6535 - mean_absolute_error: 19.0347 - val_loss: 508.4268 - val_mean_absolute_error: 20.4145\n",
            "Epoch 11/500\n",
            "3/3 [==============================] - 0s 68ms/step - loss: 434.7778 - mean_absolute_error: 18.5432 - val_loss: 489.2033 - val_mean_absolute_error: 19.9367\n",
            "Epoch 12/500\n",
            "3/3 [==============================] - 0s 70ms/step - loss: 415.8304 - mean_absolute_error: 18.0364 - val_loss: 468.7306 - val_mean_absolute_error: 19.4125\n",
            "Epoch 13/500\n",
            "3/3 [==============================] - 0s 27ms/step - loss: 395.9187 - mean_absolute_error: 17.5148 - val_loss: 447.7598 - val_mean_absolute_error: 18.8624\n",
            "Epoch 14/500\n",
            "3/3 [==============================] - 0s 44ms/step - loss: 375.5913 - mean_absolute_error: 16.9724 - val_loss: 425.6902 - val_mean_absolute_error: 18.2740\n",
            "Epoch 15/500\n",
            "3/3 [==============================] - 0s 25ms/step - loss: 354.4085 - mean_absolute_error: 16.3981 - val_loss: 402.8424 - val_mean_absolute_error: 17.6575\n",
            "Epoch 16/500\n",
            "3/3 [==============================] - 0s 51ms/step - loss: 332.5607 - mean_absolute_error: 15.8142 - val_loss: 378.8671 - val_mean_absolute_error: 17.0142\n",
            "Epoch 17/500\n",
            "3/3 [==============================] - 0s 32ms/step - loss: 310.0728 - mean_absolute_error: 15.1841 - val_loss: 355.4253 - val_mean_absolute_error: 16.3917\n",
            "Epoch 18/500\n",
            "3/3 [==============================] - 0s 25ms/step - loss: 288.0367 - mean_absolute_error: 14.5658 - val_loss: 331.3783 - val_mean_absolute_error: 15.7290\n",
            "Epoch 19/500\n",
            "3/3 [==============================] - 0s 47ms/step - loss: 265.8851 - mean_absolute_error: 13.9111 - val_loss: 308.5536 - val_mean_absolute_error: 15.0734\n",
            "Epoch 20/500\n",
            "3/3 [==============================] - 0s 57ms/step - loss: 244.5840 - mean_absolute_error: 13.2789 - val_loss: 285.2476 - val_mean_absolute_error: 14.3752\n",
            "Epoch 21/500\n",
            "3/3 [==============================] - 0s 57ms/step - loss: 223.3828 - mean_absolute_error: 12.6172 - val_loss: 262.6882 - val_mean_absolute_error: 13.6598\n",
            "Epoch 22/500\n",
            "3/3 [==============================] - 0s 34ms/step - loss: 202.9893 - mean_absolute_error: 11.9489 - val_loss: 241.1622 - val_mean_absolute_error: 12.9371\n",
            "Epoch 23/500\n",
            "3/3 [==============================] - 0s 50ms/step - loss: 184.0017 - mean_absolute_error: 11.2824 - val_loss: 221.3881 - val_mean_absolute_error: 12.2223\n",
            "Epoch 24/500\n",
            "3/3 [==============================] - 0s 44ms/step - loss: 166.6246 - mean_absolute_error: 10.6287 - val_loss: 202.5107 - val_mean_absolute_error: 11.5102\n",
            "Epoch 25/500\n",
            "3/3 [==============================] - 0s 27ms/step - loss: 150.1999 - mean_absolute_error: 10.0184 - val_loss: 184.6966 - val_mean_absolute_error: 10.8220\n",
            "Epoch 26/500\n",
            "3/3 [==============================] - 0s 47ms/step - loss: 135.0970 - mean_absolute_error: 9.4063 - val_loss: 168.3980 - val_mean_absolute_error: 10.1797\n",
            "Epoch 27/500\n",
            "3/3 [==============================] - 0s 40ms/step - loss: 121.5506 - mean_absolute_error: 8.8524 - val_loss: 152.3871 - val_mean_absolute_error: 9.5685\n",
            "Epoch 28/500\n",
            "3/3 [==============================] - 0s 26ms/step - loss: 108.6237 - mean_absolute_error: 8.3181 - val_loss: 138.2952 - val_mean_absolute_error: 9.0533\n",
            "Epoch 29/500\n",
            "3/3 [==============================] - 0s 18ms/step - loss: 97.6404 - mean_absolute_error: 7.8132 - val_loss: 125.9580 - val_mean_absolute_error: 8.5962\n",
            "Epoch 30/500\n",
            "3/3 [==============================] - 0s 49ms/step - loss: 88.1851 - mean_absolute_error: 7.3928 - val_loss: 115.1180 - val_mean_absolute_error: 8.1749\n",
            "Epoch 31/500\n",
            "3/3 [==============================] - 0s 46ms/step - loss: 80.1628 - mean_absolute_error: 7.0173 - val_loss: 105.0289 - val_mean_absolute_error: 7.8186\n",
            "Epoch 32/500\n",
            "3/3 [==============================] - 0s 47ms/step - loss: 72.8972 - mean_absolute_error: 6.6632 - val_loss: 95.8908 - val_mean_absolute_error: 7.4596\n",
            "Epoch 33/500\n",
            "3/3 [==============================] - 0s 63ms/step - loss: 66.3238 - mean_absolute_error: 6.2915 - val_loss: 86.9464 - val_mean_absolute_error: 7.0916\n",
            "Epoch 34/500\n",
            "3/3 [==============================] - 0s 66ms/step - loss: 60.3321 - mean_absolute_error: 5.9681 - val_loss: 80.1291 - val_mean_absolute_error: 6.7693\n",
            "Epoch 35/500\n",
            "3/3 [==============================] - 0s 28ms/step - loss: 55.6646 - mean_absolute_error: 5.6686 - val_loss: 74.0975 - val_mean_absolute_error: 6.4788\n",
            "Epoch 36/500\n",
            "3/3 [==============================] - 0s 70ms/step - loss: 51.6374 - mean_absolute_error: 5.4104 - val_loss: 68.4180 - val_mean_absolute_error: 6.1853\n",
            "Epoch 37/500\n",
            "3/3 [==============================] - 0s 36ms/step - loss: 47.9524 - mean_absolute_error: 5.1710 - val_loss: 63.3875 - val_mean_absolute_error: 5.9148\n",
            "Epoch 38/500\n",
            "3/3 [==============================] - 0s 25ms/step - loss: 44.7852 - mean_absolute_error: 4.9265 - val_loss: 58.8123 - val_mean_absolute_error: 5.7446\n",
            "Epoch 39/500\n",
            "3/3 [==============================] - 0s 25ms/step - loss: 41.8645 - mean_absolute_error: 4.7139 - val_loss: 54.8440 - val_mean_absolute_error: 5.5652\n",
            "Epoch 40/500\n",
            "3/3 [==============================] - 0s 34ms/step - loss: 39.5383 - mean_absolute_error: 4.5402 - val_loss: 51.6195 - val_mean_absolute_error: 5.3732\n",
            "Epoch 41/500\n",
            "3/3 [==============================] - 0s 34ms/step - loss: 37.4544 - mean_absolute_error: 4.3956 - val_loss: 48.5823 - val_mean_absolute_error: 5.1906\n",
            "Epoch 42/500\n",
            "3/3 [==============================] - 0s 48ms/step - loss: 35.6807 - mean_absolute_error: 4.2551 - val_loss: 46.2364 - val_mean_absolute_error: 5.0531\n",
            "Epoch 43/500\n",
            "3/3 [==============================] - 0s 17ms/step - loss: 34.3496 - mean_absolute_error: 4.1575 - val_loss: 44.0202 - val_mean_absolute_error: 4.9338\n",
            "Epoch 44/500\n",
            "3/3 [==============================] - 0s 35ms/step - loss: 33.1105 - mean_absolute_error: 4.0434 - val_loss: 41.9805 - val_mean_absolute_error: 4.8506\n",
            "Epoch 45/500\n",
            "3/3 [==============================] - 0s 43ms/step - loss: 31.5269 - mean_absolute_error: 3.9234 - val_loss: 40.0762 - val_mean_absolute_error: 4.7533\n",
            "Epoch 46/500\n",
            "3/3 [==============================] - 0s 19ms/step - loss: 30.3494 - mean_absolute_error: 3.8327 - val_loss: 38.0203 - val_mean_absolute_error: 4.6692\n",
            "Epoch 47/500\n",
            "3/3 [==============================] - 0s 31ms/step - loss: 29.2417 - mean_absolute_error: 3.7528 - val_loss: 36.2397 - val_mean_absolute_error: 4.5880\n",
            "Epoch 48/500\n",
            "3/3 [==============================] - 0s 37ms/step - loss: 28.3351 - mean_absolute_error: 3.7012 - val_loss: 34.8252 - val_mean_absolute_error: 4.5042\n",
            "Epoch 49/500\n",
            "3/3 [==============================] - 0s 17ms/step - loss: 27.6294 - mean_absolute_error: 3.6603 - val_loss: 33.6042 - val_mean_absolute_error: 4.3647\n",
            "Epoch 50/500\n",
            "3/3 [==============================] - 0s 19ms/step - loss: 26.7670 - mean_absolute_error: 3.5873 - val_loss: 32.6811 - val_mean_absolute_error: 4.3127\n",
            "Epoch 51/500\n",
            "3/3 [==============================] - 0s 37ms/step - loss: 26.0468 - mean_absolute_error: 3.5306 - val_loss: 31.4860 - val_mean_absolute_error: 4.2059\n",
            "Epoch 52/500\n",
            "3/3 [==============================] - 0s 16ms/step - loss: 25.4326 - mean_absolute_error: 3.4821 - val_loss: 30.6048 - val_mean_absolute_error: 4.1711\n",
            "Epoch 53/500\n",
            "3/3 [==============================] - 0s 35ms/step - loss: 24.8766 - mean_absolute_error: 3.4660 - val_loss: 29.7553 - val_mean_absolute_error: 4.1750\n",
            "Epoch 54/500\n",
            "3/3 [==============================] - 0s 15ms/step - loss: 24.2697 - mean_absolute_error: 3.4529 - val_loss: 28.8908 - val_mean_absolute_error: 4.0448\n",
            "Epoch 55/500\n",
            "3/3 [==============================] - 0s 34ms/step - loss: 23.8159 - mean_absolute_error: 3.3920 - val_loss: 28.5382 - val_mean_absolute_error: 4.0543\n",
            "Epoch 56/500\n",
            "3/3 [==============================] - 0s 22ms/step - loss: 23.5839 - mean_absolute_error: 3.4048 - val_loss: 28.5192 - val_mean_absolute_error: 4.0916\n",
            "Epoch 57/500\n",
            "3/3 [==============================] - 0s 47ms/step - loss: 23.1586 - mean_absolute_error: 3.3931 - val_loss: 27.6795 - val_mean_absolute_error: 4.0128\n",
            "Epoch 58/500\n",
            "3/3 [==============================] - 0s 45ms/step - loss: 22.6086 - mean_absolute_error: 3.3127 - val_loss: 26.4842 - val_mean_absolute_error: 3.8939\n",
            "Epoch 59/500\n",
            "3/3 [==============================] - 0s 21ms/step - loss: 21.9760 - mean_absolute_error: 3.2831 - val_loss: 26.0991 - val_mean_absolute_error: 3.8733\n",
            "Epoch 60/500\n",
            "3/3 [==============================] - 0s 38ms/step - loss: 21.6680 - mean_absolute_error: 3.2573 - val_loss: 25.3364 - val_mean_absolute_error: 3.8021\n",
            "Epoch 61/500\n",
            "3/3 [==============================] - 0s 40ms/step - loss: 21.2461 - mean_absolute_error: 3.2297 - val_loss: 24.7249 - val_mean_absolute_error: 3.7360\n",
            "Epoch 62/500\n",
            "3/3 [==============================] - 0s 36ms/step - loss: 20.9575 - mean_absolute_error: 3.1992 - val_loss: 24.3420 - val_mean_absolute_error: 3.6948\n",
            "Epoch 63/500\n",
            "3/3 [==============================] - 0s 55ms/step - loss: 20.7446 - mean_absolute_error: 3.1788 - val_loss: 24.3708 - val_mean_absolute_error: 3.7551\n",
            "Epoch 64/500\n",
            "3/3 [==============================] - 0s 16ms/step - loss: 20.2562 - mean_absolute_error: 3.1463 - val_loss: 23.2330 - val_mean_absolute_error: 3.5720\n",
            "Epoch 65/500\n",
            "3/3 [==============================] - 0s 34ms/step - loss: 20.0091 - mean_absolute_error: 3.1229 - val_loss: 22.9915 - val_mean_absolute_error: 3.5945\n",
            "Epoch 66/500\n",
            "3/3 [==============================] - 0s 49ms/step - loss: 19.6201 - mean_absolute_error: 3.1076 - val_loss: 22.6816 - val_mean_absolute_error: 3.6176\n",
            "Epoch 67/500\n",
            "3/3 [==============================] - 0s 19ms/step - loss: 19.2641 - mean_absolute_error: 3.1198 - val_loss: 22.1990 - val_mean_absolute_error: 3.5477\n",
            "Epoch 68/500\n",
            "3/3 [==============================] - 0s 48ms/step - loss: 19.1383 - mean_absolute_error: 3.0675 - val_loss: 22.5821 - val_mean_absolute_error: 3.6142\n",
            "Epoch 69/500\n",
            "3/3 [==============================] - 0s 34ms/step - loss: 18.6857 - mean_absolute_error: 3.0380 - val_loss: 21.5769 - val_mean_absolute_error: 3.5062\n",
            "Epoch 70/500\n",
            "3/3 [==============================] - 0s 16ms/step - loss: 18.3988 - mean_absolute_error: 3.0248 - val_loss: 21.3004 - val_mean_absolute_error: 3.4842\n",
            "Epoch 71/500\n",
            "3/3 [==============================] - 0s 16ms/step - loss: 18.0761 - mean_absolute_error: 2.9997 - val_loss: 21.5324 - val_mean_absolute_error: 3.5284\n",
            "Epoch 72/500\n",
            "3/3 [==============================] - 0s 45ms/step - loss: 18.0279 - mean_absolute_error: 3.0046 - val_loss: 20.6648 - val_mean_absolute_error: 3.4100\n",
            "Epoch 73/500\n",
            "3/3 [==============================] - 0s 43ms/step - loss: 17.3765 - mean_absolute_error: 2.9310 - val_loss: 21.0433 - val_mean_absolute_error: 3.4731\n",
            "Epoch 74/500\n",
            "3/3 [==============================] - 0s 33ms/step - loss: 17.1124 - mean_absolute_error: 2.9472 - val_loss: 20.0478 - val_mean_absolute_error: 3.3211\n",
            "Epoch 75/500\n",
            "3/3 [==============================] - 0s 24ms/step - loss: 17.0030 - mean_absolute_error: 2.9104 - val_loss: 19.7890 - val_mean_absolute_error: 3.2851\n",
            "Epoch 76/500\n",
            "3/3 [==============================] - 0s 25ms/step - loss: 16.6443 - mean_absolute_error: 2.8793 - val_loss: 19.7786 - val_mean_absolute_error: 3.3208\n",
            "Epoch 77/500\n",
            "3/3 [==============================] - 0s 26ms/step - loss: 16.3323 - mean_absolute_error: 2.8673 - val_loss: 19.7540 - val_mean_absolute_error: 3.3464\n",
            "Epoch 78/500\n",
            "3/3 [==============================] - 0s 19ms/step - loss: 16.0102 - mean_absolute_error: 2.8105 - val_loss: 19.3498 - val_mean_absolute_error: 3.2611\n",
            "Epoch 79/500\n",
            "3/3 [==============================] - 0s 22ms/step - loss: 15.9298 - mean_absolute_error: 2.8323 - val_loss: 19.0109 - val_mean_absolute_error: 3.2524\n",
            "Epoch 80/500\n",
            "3/3 [==============================] - 0s 42ms/step - loss: 15.5097 - mean_absolute_error: 2.8042 - val_loss: 18.7526 - val_mean_absolute_error: 3.2164\n",
            "Epoch 81/500\n",
            "3/3 [==============================] - 0s 28ms/step - loss: 15.3520 - mean_absolute_error: 2.7832 - val_loss: 18.3298 - val_mean_absolute_error: 3.1636\n",
            "Epoch 82/500\n",
            "3/3 [==============================] - 0s 18ms/step - loss: 15.0942 - mean_absolute_error: 2.7510 - val_loss: 18.7176 - val_mean_absolute_error: 3.2560\n",
            "Epoch 83/500\n",
            "3/3 [==============================] - 0s 24ms/step - loss: 14.8791 - mean_absolute_error: 2.7246 - val_loss: 18.9048 - val_mean_absolute_error: 3.2665\n",
            "Epoch 84/500\n",
            "3/3 [==============================] - 0s 18ms/step - loss: 14.5622 - mean_absolute_error: 2.7137 - val_loss: 17.9321 - val_mean_absolute_error: 3.1553\n",
            "Epoch 85/500\n",
            "3/3 [==============================] - 0s 21ms/step - loss: 14.2966 - mean_absolute_error: 2.6618 - val_loss: 17.5090 - val_mean_absolute_error: 3.1315\n",
            "Epoch 86/500\n",
            "3/3 [==============================] - 0s 24ms/step - loss: 14.3387 - mean_absolute_error: 2.6523 - val_loss: 17.3968 - val_mean_absolute_error: 3.0963\n",
            "Epoch 87/500\n",
            "3/3 [==============================] - 0s 27ms/step - loss: 13.7820 - mean_absolute_error: 2.6108 - val_loss: 17.1777 - val_mean_absolute_error: 3.0687\n",
            "Epoch 88/500\n",
            "3/3 [==============================] - 0s 21ms/step - loss: 13.6771 - mean_absolute_error: 2.6029 - val_loss: 17.3709 - val_mean_absolute_error: 3.1795\n",
            "Epoch 89/500\n",
            "3/3 [==============================] - 0s 19ms/step - loss: 13.5282 - mean_absolute_error: 2.5537 - val_loss: 16.8286 - val_mean_absolute_error: 3.0694\n",
            "Epoch 90/500\n",
            "3/3 [==============================] - 0s 23ms/step - loss: 13.1161 - mean_absolute_error: 2.5283 - val_loss: 16.5167 - val_mean_absolute_error: 3.0045\n",
            "Epoch 91/500\n",
            "3/3 [==============================] - 0s 16ms/step - loss: 13.0825 - mean_absolute_error: 2.5214 - val_loss: 16.1988 - val_mean_absolute_error: 3.0033\n",
            "Epoch 92/500\n",
            "3/3 [==============================] - 0s 45ms/step - loss: 12.8894 - mean_absolute_error: 2.4825 - val_loss: 16.3030 - val_mean_absolute_error: 2.9633\n",
            "Epoch 93/500\n",
            "3/3 [==============================] - 0s 24ms/step - loss: 12.7579 - mean_absolute_error: 2.4740 - val_loss: 15.9274 - val_mean_absolute_error: 2.9328\n",
            "Epoch 94/500\n",
            "3/3 [==============================] - 0s 18ms/step - loss: 12.5589 - mean_absolute_error: 2.4599 - val_loss: 16.4033 - val_mean_absolute_error: 3.0387\n",
            "Epoch 95/500\n",
            "3/3 [==============================] - 0s 51ms/step - loss: 12.3724 - mean_absolute_error: 2.4227 - val_loss: 16.4556 - val_mean_absolute_error: 3.0558\n",
            "Epoch 96/500\n",
            "3/3 [==============================] - 0s 15ms/step - loss: 12.3751 - mean_absolute_error: 2.4234 - val_loss: 16.1808 - val_mean_absolute_error: 2.9955\n",
            "Epoch 97/500\n",
            "3/3 [==============================] - 0s 31ms/step - loss: 11.9064 - mean_absolute_error: 2.3870 - val_loss: 15.5605 - val_mean_absolute_error: 2.8841\n",
            "Epoch 98/500\n",
            "3/3 [==============================] - 0s 53ms/step - loss: 11.7953 - mean_absolute_error: 2.3667 - val_loss: 16.9125 - val_mean_absolute_error: 3.0325\n",
            "Epoch 99/500\n",
            "3/3 [==============================] - 0s 29ms/step - loss: 12.0191 - mean_absolute_error: 2.3932 - val_loss: 15.7607 - val_mean_absolute_error: 2.9237\n",
            "Epoch 100/500\n",
            "3/3 [==============================] - 0s 42ms/step - loss: 11.4968 - mean_absolute_error: 2.3497 - val_loss: 15.5631 - val_mean_absolute_error: 2.9319\n",
            "Epoch 101/500\n",
            "3/3 [==============================] - 0s 29ms/step - loss: 11.4921 - mean_absolute_error: 2.3413 - val_loss: 15.1778 - val_mean_absolute_error: 2.8649\n",
            "Epoch 102/500\n",
            "3/3 [==============================] - 0s 25ms/step - loss: 11.3315 - mean_absolute_error: 2.3036 - val_loss: 15.6285 - val_mean_absolute_error: 2.8060\n",
            "Epoch 103/500\n",
            "3/3 [==============================] - 0s 56ms/step - loss: 11.0938 - mean_absolute_error: 2.3146 - val_loss: 15.8227 - val_mean_absolute_error: 2.9198\n",
            "Epoch 104/500\n",
            "3/3 [==============================] - 0s 39ms/step - loss: 11.2516 - mean_absolute_error: 2.3113 - val_loss: 14.8429 - val_mean_absolute_error: 2.8384\n",
            "Epoch 105/500\n",
            "3/3 [==============================] - 0s 20ms/step - loss: 10.9105 - mean_absolute_error: 2.2695 - val_loss: 14.4671 - val_mean_absolute_error: 2.7665\n",
            "Epoch 106/500\n",
            "3/3 [==============================] - 0s 55ms/step - loss: 11.1921 - mean_absolute_error: 2.3049 - val_loss: 14.6831 - val_mean_absolute_error: 2.7985\n",
            "Epoch 107/500\n",
            "3/3 [==============================] - 0s 27ms/step - loss: 10.6824 - mean_absolute_error: 2.2459 - val_loss: 14.3170 - val_mean_absolute_error: 2.7777\n",
            "Epoch 108/500\n",
            "3/3 [==============================] - 0s 32ms/step - loss: 10.6913 - mean_absolute_error: 2.2158 - val_loss: 14.5859 - val_mean_absolute_error: 2.7738\n",
            "Epoch 109/500\n",
            "3/3 [==============================] - 0s 23ms/step - loss: 10.4961 - mean_absolute_error: 2.2389 - val_loss: 14.1812 - val_mean_absolute_error: 2.7079\n",
            "Epoch 110/500\n",
            "3/3 [==============================] - 0s 20ms/step - loss: 10.4874 - mean_absolute_error: 2.2018 - val_loss: 14.8170 - val_mean_absolute_error: 2.8522\n",
            "Epoch 111/500\n",
            "3/3 [==============================] - 0s 23ms/step - loss: 10.2617 - mean_absolute_error: 2.1812 - val_loss: 14.5846 - val_mean_absolute_error: 2.7064\n",
            "Epoch 112/500\n",
            "3/3 [==============================] - 0s 30ms/step - loss: 10.1647 - mean_absolute_error: 2.1985 - val_loss: 14.5681 - val_mean_absolute_error: 2.7721\n",
            "Epoch 113/500\n",
            "3/3 [==============================] - 0s 70ms/step - loss: 10.1608 - mean_absolute_error: 2.1580 - val_loss: 15.0601 - val_mean_absolute_error: 2.6839\n",
            "Epoch 114/500\n",
            "3/3 [==============================] - 0s 31ms/step - loss: 10.2106 - mean_absolute_error: 2.2313 - val_loss: 14.1049 - val_mean_absolute_error: 2.6676\n",
            "Epoch 115/500\n",
            "3/3 [==============================] - 0s 48ms/step - loss: 9.9676 - mean_absolute_error: 2.1518 - val_loss: 14.7948 - val_mean_absolute_error: 2.7037\n",
            "Epoch 116/500\n",
            "3/3 [==============================] - 0s 28ms/step - loss: 9.8403 - mean_absolute_error: 2.1573 - val_loss: 14.4712 - val_mean_absolute_error: 2.6669\n",
            "Epoch 117/500\n",
            "3/3 [==============================] - 0s 29ms/step - loss: 9.7765 - mean_absolute_error: 2.1537 - val_loss: 13.9208 - val_mean_absolute_error: 2.6144\n",
            "Epoch 118/500\n",
            "3/3 [==============================] - 0s 39ms/step - loss: 9.7801 - mean_absolute_error: 2.1421 - val_loss: 13.9670 - val_mean_absolute_error: 2.5793\n",
            "Epoch 119/500\n",
            "3/3 [==============================] - 0s 32ms/step - loss: 9.8802 - mean_absolute_error: 2.1372 - val_loss: 14.8136 - val_mean_absolute_error: 2.6050\n",
            "Epoch 120/500\n",
            "3/3 [==============================] - 0s 34ms/step - loss: 9.6553 - mean_absolute_error: 2.1654 - val_loss: 14.8069 - val_mean_absolute_error: 2.8311\n",
            "Epoch 121/500\n",
            "3/3 [==============================] - 0s 31ms/step - loss: 9.6552 - mean_absolute_error: 2.1210 - val_loss: 13.8971 - val_mean_absolute_error: 2.6164\n",
            "Epoch 122/500\n",
            "3/3 [==============================] - 0s 20ms/step - loss: 9.4561 - mean_absolute_error: 2.1091 - val_loss: 13.7857 - val_mean_absolute_error: 2.6660\n",
            "Epoch 123/500\n",
            "3/3 [==============================] - 0s 37ms/step - loss: 9.3684 - mean_absolute_error: 2.0809 - val_loss: 14.3557 - val_mean_absolute_error: 2.6298\n",
            "Epoch 124/500\n",
            "3/3 [==============================] - 0s 23ms/step - loss: 9.5168 - mean_absolute_error: 2.1144 - val_loss: 13.8494 - val_mean_absolute_error: 2.5242\n",
            "Epoch 125/500\n",
            "3/3 [==============================] - 0s 23ms/step - loss: 9.5230 - mean_absolute_error: 2.1124 - val_loss: 13.2160 - val_mean_absolute_error: 2.5831\n",
            "Epoch 126/500\n",
            "3/3 [==============================] - 0s 23ms/step - loss: 9.3070 - mean_absolute_error: 2.0668 - val_loss: 14.0286 - val_mean_absolute_error: 2.6202\n",
            "Epoch 127/500\n",
            "3/3 [==============================] - 0s 52ms/step - loss: 9.2241 - mean_absolute_error: 2.0908 - val_loss: 13.6040 - val_mean_absolute_error: 2.5188\n",
            "Epoch 128/500\n",
            "3/3 [==============================] - 0s 23ms/step - loss: 9.4075 - mean_absolute_error: 2.1369 - val_loss: 13.4735 - val_mean_absolute_error: 2.6065\n",
            "Epoch 129/500\n",
            "3/3 [==============================] - 0s 26ms/step - loss: 9.3441 - mean_absolute_error: 2.0842 - val_loss: 13.7815 - val_mean_absolute_error: 2.5199\n",
            "Epoch 130/500\n",
            "3/3 [==============================] - 0s 36ms/step - loss: 9.1793 - mean_absolute_error: 2.0846 - val_loss: 14.0993 - val_mean_absolute_error: 2.6591\n",
            "Epoch 131/500\n",
            "3/3 [==============================] - 0s 37ms/step - loss: 9.0810 - mean_absolute_error: 2.0732 - val_loss: 13.5680 - val_mean_absolute_error: 2.6527\n",
            "Epoch 132/500\n",
            "3/3 [==============================] - 0s 18ms/step - loss: 9.0849 - mean_absolute_error: 2.0479 - val_loss: 13.6152 - val_mean_absolute_error: 2.6180\n",
            "Epoch 133/500\n",
            "3/3 [==============================] - 0s 22ms/step - loss: 8.9513 - mean_absolute_error: 2.0409 - val_loss: 14.0422 - val_mean_absolute_error: 2.5645\n",
            "Epoch 134/500\n",
            "3/3 [==============================] - 0s 73ms/step - loss: 8.8937 - mean_absolute_error: 2.0640 - val_loss: 13.3892 - val_mean_absolute_error: 2.5763\n",
            "Epoch 135/500\n",
            "3/3 [==============================] - 0s 24ms/step - loss: 8.8705 - mean_absolute_error: 2.0246 - val_loss: 14.0235 - val_mean_absolute_error: 2.5850\n",
            "Epoch 136/500\n",
            "3/3 [==============================] - 0s 38ms/step - loss: 9.0652 - mean_absolute_error: 2.0853 - val_loss: 13.1879 - val_mean_absolute_error: 2.5690\n",
            "Epoch 137/500\n",
            "3/3 [==============================] - 0s 37ms/step - loss: 8.9413 - mean_absolute_error: 2.0325 - val_loss: 13.7228 - val_mean_absolute_error: 2.5119\n",
            "Epoch 138/500\n",
            "3/3 [==============================] - 0s 20ms/step - loss: 8.8061 - mean_absolute_error: 2.0471 - val_loss: 13.5573 - val_mean_absolute_error: 2.4780\n",
            "Epoch 139/500\n",
            "3/3 [==============================] - 0s 21ms/step - loss: 8.8933 - mean_absolute_error: 2.0361 - val_loss: 14.1237 - val_mean_absolute_error: 2.5291\n",
            "Epoch 140/500\n",
            "3/3 [==============================] - 0s 27ms/step - loss: 8.6913 - mean_absolute_error: 2.0462 - val_loss: 13.2623 - val_mean_absolute_error: 2.5080\n",
            "Epoch 141/500\n",
            "3/3 [==============================] - 0s 44ms/step - loss: 8.9130 - mean_absolute_error: 2.0583 - val_loss: 13.2015 - val_mean_absolute_error: 2.5100\n",
            "Epoch 142/500\n",
            "3/3 [==============================] - 0s 20ms/step - loss: 8.7865 - mean_absolute_error: 2.0354 - val_loss: 13.5250 - val_mean_absolute_error: 2.6149\n",
            "Epoch 143/500\n",
            "3/3 [==============================] - 0s 53ms/step - loss: 8.7438 - mean_absolute_error: 2.0223 - val_loss: 13.6600 - val_mean_absolute_error: 2.6121\n",
            "Epoch 144/500\n",
            "3/3 [==============================] - 0s 41ms/step - loss: 8.7108 - mean_absolute_error: 2.0352 - val_loss: 13.2843 - val_mean_absolute_error: 2.5213\n",
            "Epoch 145/500\n",
            "3/3 [==============================] - 0s 36ms/step - loss: 8.7477 - mean_absolute_error: 2.0431 - val_loss: 13.5814 - val_mean_absolute_error: 2.5953\n",
            "Epoch 146/500\n",
            "3/3 [==============================] - 0s 24ms/step - loss: 8.5692 - mean_absolute_error: 1.9993 - val_loss: 13.2674 - val_mean_absolute_error: 2.5408\n",
            "Epoch 147/500\n",
            "3/3 [==============================] - 0s 29ms/step - loss: 8.4870 - mean_absolute_error: 1.9733 - val_loss: 14.0261 - val_mean_absolute_error: 2.4493\n",
            "Epoch 148/500\n",
            "3/3 [==============================] - 0s 36ms/step - loss: 8.5497 - mean_absolute_error: 2.0047 - val_loss: 14.5702 - val_mean_absolute_error: 2.6084\n",
            "Epoch 149/500\n",
            "3/3 [==============================] - 0s 21ms/step - loss: 8.5901 - mean_absolute_error: 2.0307 - val_loss: 13.3402 - val_mean_absolute_error: 2.5095\n",
            "Epoch 150/500\n",
            "3/3 [==============================] - 0s 21ms/step - loss: 8.4014 - mean_absolute_error: 1.9887 - val_loss: 13.1110 - val_mean_absolute_error: 2.4706\n",
            "Epoch 151/500\n",
            "3/3 [==============================] - 0s 46ms/step - loss: 8.6173 - mean_absolute_error: 2.0255 - val_loss: 12.8505 - val_mean_absolute_error: 2.4569\n",
            "Epoch 152/500\n",
            "3/3 [==============================] - 0s 21ms/step - loss: 8.6209 - mean_absolute_error: 2.0087 - val_loss: 14.2143 - val_mean_absolute_error: 2.4443\n",
            "Epoch 153/500\n",
            "3/3 [==============================] - 0s 19ms/step - loss: 8.5099 - mean_absolute_error: 2.0569 - val_loss: 13.4349 - val_mean_absolute_error: 2.4705\n",
            "Epoch 154/500\n",
            "3/3 [==============================] - 0s 17ms/step - loss: 8.3270 - mean_absolute_error: 1.9899 - val_loss: 13.1643 - val_mean_absolute_error: 2.4978\n",
            "Epoch 155/500\n",
            "3/3 [==============================] - 0s 16ms/step - loss: 8.3049 - mean_absolute_error: 1.9901 - val_loss: 13.1086 - val_mean_absolute_error: 2.5641\n",
            "Epoch 156/500\n",
            "3/3 [==============================] - 0s 16ms/step - loss: 8.4926 - mean_absolute_error: 1.9898 - val_loss: 14.1947 - val_mean_absolute_error: 2.5203\n",
            "Epoch 157/500\n",
            "3/3 [==============================] - 0s 18ms/step - loss: 8.5567 - mean_absolute_error: 2.0308 - val_loss: 13.4708 - val_mean_absolute_error: 2.5145\n",
            "Epoch 158/500\n",
            "3/3 [==============================] - 0s 18ms/step - loss: 8.4755 - mean_absolute_error: 2.0311 - val_loss: 13.4668 - val_mean_absolute_error: 2.5599\n",
            "Epoch 159/500\n",
            "3/3 [==============================] - 0s 36ms/step - loss: 8.4994 - mean_absolute_error: 2.0277 - val_loss: 12.8009 - val_mean_absolute_error: 2.4532\n",
            "Epoch 160/500\n",
            "3/3 [==============================] - 0s 36ms/step - loss: 8.1830 - mean_absolute_error: 1.9670 - val_loss: 13.4090 - val_mean_absolute_error: 2.4173\n",
            "Epoch 161/500\n",
            "3/3 [==============================] - 0s 33ms/step - loss: 8.3637 - mean_absolute_error: 1.9995 - val_loss: 13.4577 - val_mean_absolute_error: 2.4550\n",
            "Epoch 162/500\n",
            "3/3 [==============================] - 0s 50ms/step - loss: 8.1414 - mean_absolute_error: 1.9532 - val_loss: 13.5625 - val_mean_absolute_error: 2.4139\n",
            "Epoch 163/500\n",
            "3/3 [==============================] - 0s 35ms/step - loss: 8.1796 - mean_absolute_error: 1.9951 - val_loss: 13.2697 - val_mean_absolute_error: 2.5410\n",
            "Epoch 164/500\n",
            "3/3 [==============================] - 0s 18ms/step - loss: 8.1322 - mean_absolute_error: 1.9532 - val_loss: 13.5419 - val_mean_absolute_error: 2.5053\n",
            "Epoch 165/500\n",
            "3/3 [==============================] - 0s 21ms/step - loss: 8.2093 - mean_absolute_error: 1.9732 - val_loss: 14.5231 - val_mean_absolute_error: 2.6363\n",
            "Epoch 166/500\n",
            "3/3 [==============================] - 0s 36ms/step - loss: 8.4054 - mean_absolute_error: 2.0314 - val_loss: 14.0243 - val_mean_absolute_error: 2.5369\n",
            "Epoch 167/500\n",
            "3/3 [==============================] - 0s 38ms/step - loss: 8.2302 - mean_absolute_error: 1.9891 - val_loss: 13.4510 - val_mean_absolute_error: 2.4835\n",
            "Epoch 168/500\n",
            "3/3 [==============================] - 0s 18ms/step - loss: 7.9808 - mean_absolute_error: 1.9694 - val_loss: 13.1143 - val_mean_absolute_error: 2.4957\n",
            "Epoch 169/500\n",
            "3/3 [==============================] - 0s 34ms/step - loss: 8.0346 - mean_absolute_error: 1.9685 - val_loss: 13.2856 - val_mean_absolute_error: 2.5234\n",
            "Epoch 170/500\n",
            "3/3 [==============================] - 0s 18ms/step - loss: 7.9369 - mean_absolute_error: 1.9415 - val_loss: 13.6263 - val_mean_absolute_error: 2.4111\n",
            "Epoch 171/500\n",
            "3/3 [==============================] - 0s 38ms/step - loss: 8.1267 - mean_absolute_error: 1.9757 - val_loss: 13.8502 - val_mean_absolute_error: 2.4484\n",
            "Epoch 172/500\n",
            "3/3 [==============================] - 0s 33ms/step - loss: 8.0387 - mean_absolute_error: 1.9740 - val_loss: 12.9391 - val_mean_absolute_error: 2.4288\n",
            "Epoch 173/500\n",
            "3/3 [==============================] - 0s 33ms/step - loss: 8.0716 - mean_absolute_error: 1.9848 - val_loss: 12.6269 - val_mean_absolute_error: 2.4877\n",
            "Epoch 174/500\n",
            "3/3 [==============================] - 0s 18ms/step - loss: 7.9169 - mean_absolute_error: 1.9117 - val_loss: 14.3106 - val_mean_absolute_error: 2.5106\n",
            "Epoch 175/500\n",
            "3/3 [==============================] - 0s 38ms/step - loss: 8.0759 - mean_absolute_error: 2.0002 - val_loss: 13.1210 - val_mean_absolute_error: 2.4227\n",
            "Epoch 176/500\n",
            "3/3 [==============================] - 0s 23ms/step - loss: 7.9626 - mean_absolute_error: 1.9385 - val_loss: 13.5738 - val_mean_absolute_error: 2.4080\n",
            "Epoch 177/500\n",
            "3/3 [==============================] - 0s 21ms/step - loss: 7.9818 - mean_absolute_error: 1.9523 - val_loss: 13.6497 - val_mean_absolute_error: 2.4566\n",
            "Epoch 178/500\n",
            "3/3 [==============================] - 0s 38ms/step - loss: 8.1413 - mean_absolute_error: 1.9691 - val_loss: 13.2661 - val_mean_absolute_error: 2.4135\n",
            "Epoch 179/500\n",
            "3/3 [==============================] - 0s 18ms/step - loss: 7.8097 - mean_absolute_error: 1.9380 - val_loss: 12.8240 - val_mean_absolute_error: 2.5008\n",
            "Epoch 180/500\n",
            "3/3 [==============================] - 0s 19ms/step - loss: 7.8723 - mean_absolute_error: 1.9207 - val_loss: 12.5476 - val_mean_absolute_error: 2.4576\n",
            "Epoch 181/500\n",
            "3/3 [==============================] - 0s 19ms/step - loss: 7.9308 - mean_absolute_error: 1.9294 - val_loss: 13.5129 - val_mean_absolute_error: 2.4702\n",
            "Epoch 182/500\n",
            "3/3 [==============================] - 0s 37ms/step - loss: 8.0754 - mean_absolute_error: 1.9954 - val_loss: 12.7806 - val_mean_absolute_error: 2.4296\n",
            "Epoch 183/500\n",
            "3/3 [==============================] - 0s 33ms/step - loss: 7.7796 - mean_absolute_error: 1.9173 - val_loss: 12.5820 - val_mean_absolute_error: 2.4117\n",
            "Epoch 184/500\n",
            "3/3 [==============================] - 0s 19ms/step - loss: 7.7882 - mean_absolute_error: 1.9224 - val_loss: 12.7171 - val_mean_absolute_error: 2.3993\n",
            "Epoch 185/500\n",
            "3/3 [==============================] - 0s 40ms/step - loss: 7.6770 - mean_absolute_error: 1.9128 - val_loss: 13.4386 - val_mean_absolute_error: 2.6075\n",
            "Epoch 186/500\n",
            "3/3 [==============================] - 0s 19ms/step - loss: 7.8315 - mean_absolute_error: 1.9666 - val_loss: 12.8399 - val_mean_absolute_error: 2.4456\n",
            "Epoch 187/500\n",
            "3/3 [==============================] - 0s 21ms/step - loss: 7.6752 - mean_absolute_error: 1.9013 - val_loss: 12.9296 - val_mean_absolute_error: 2.3682\n",
            "Epoch 188/500\n",
            "3/3 [==============================] - 0s 33ms/step - loss: 7.5661 - mean_absolute_error: 1.9185 - val_loss: 12.1319 - val_mean_absolute_error: 2.4018\n",
            "Epoch 189/500\n",
            "3/3 [==============================] - 0s 21ms/step - loss: 7.5489 - mean_absolute_error: 1.8662 - val_loss: 13.4579 - val_mean_absolute_error: 2.4631\n",
            "Epoch 190/500\n",
            "3/3 [==============================] - 0s 22ms/step - loss: 7.6369 - mean_absolute_error: 1.9147 - val_loss: 12.3916 - val_mean_absolute_error: 2.4116\n",
            "Epoch 191/500\n",
            "3/3 [==============================] - 0s 21ms/step - loss: 7.5577 - mean_absolute_error: 1.8816 - val_loss: 13.2096 - val_mean_absolute_error: 2.4241\n",
            "Epoch 192/500\n",
            "3/3 [==============================] - 0s 26ms/step - loss: 7.6932 - mean_absolute_error: 1.9445 - val_loss: 12.2119 - val_mean_absolute_error: 2.4212\n",
            "Epoch 193/500\n",
            "3/3 [==============================] - 0s 18ms/step - loss: 7.5827 - mean_absolute_error: 1.8907 - val_loss: 12.9063 - val_mean_absolute_error: 2.4542\n",
            "Epoch 194/500\n",
            "3/3 [==============================] - 0s 22ms/step - loss: 7.5865 - mean_absolute_error: 1.9131 - val_loss: 13.0746 - val_mean_absolute_error: 2.4889\n",
            "Epoch 195/500\n",
            "3/3 [==============================] - 0s 35ms/step - loss: 7.4289 - mean_absolute_error: 1.8618 - val_loss: 12.4633 - val_mean_absolute_error: 2.3651\n",
            "Epoch 196/500\n",
            "3/3 [==============================] - 0s 21ms/step - loss: 7.4515 - mean_absolute_error: 1.8778 - val_loss: 12.6505 - val_mean_absolute_error: 2.4884\n",
            "Epoch 197/500\n",
            "3/3 [==============================] - 0s 16ms/step - loss: 7.6465 - mean_absolute_error: 1.9052 - val_loss: 13.2480 - val_mean_absolute_error: 2.4400\n",
            "Epoch 198/500\n",
            "3/3 [==============================] - 0s 38ms/step - loss: 7.6605 - mean_absolute_error: 1.9134 - val_loss: 13.1250 - val_mean_absolute_error: 2.3666\n",
            "Epoch 199/500\n",
            "3/3 [==============================] - 0s 20ms/step - loss: 7.4170 - mean_absolute_error: 1.9144 - val_loss: 12.2898 - val_mean_absolute_error: 2.4098\n",
            "Epoch 200/500\n",
            "3/3 [==============================] - 0s 32ms/step - loss: 7.5435 - mean_absolute_error: 1.8736 - val_loss: 12.9405 - val_mean_absolute_error: 2.4188\n",
            "Epoch 201/500\n",
            "3/3 [==============================] - 0s 16ms/step - loss: 7.2809 - mean_absolute_error: 1.8831 - val_loss: 12.1661 - val_mean_absolute_error: 2.3766\n",
            "Epoch 202/500\n",
            "3/3 [==============================] - 0s 43ms/step - loss: 7.2746 - mean_absolute_error: 1.8391 - val_loss: 13.0020 - val_mean_absolute_error: 2.3578\n",
            "Epoch 203/500\n",
            "3/3 [==============================] - 0s 21ms/step - loss: 7.5482 - mean_absolute_error: 1.9047 - val_loss: 12.5631 - val_mean_absolute_error: 2.4707\n",
            "Epoch 204/500\n",
            "3/3 [==============================] - 0s 36ms/step - loss: 7.2697 - mean_absolute_error: 1.8580 - val_loss: 12.8659 - val_mean_absolute_error: 2.4018\n",
            "Epoch 205/500\n",
            "3/3 [==============================] - 0s 20ms/step - loss: 7.4360 - mean_absolute_error: 1.8880 - val_loss: 13.3109 - val_mean_absolute_error: 2.4329\n",
            "Epoch 206/500\n",
            "3/3 [==============================] - 0s 16ms/step - loss: 7.4573 - mean_absolute_error: 1.9097 - val_loss: 12.6824 - val_mean_absolute_error: 2.4032\n",
            "Epoch 207/500\n",
            "3/3 [==============================] - 0s 26ms/step - loss: 7.3893 - mean_absolute_error: 1.8929 - val_loss: 12.3485 - val_mean_absolute_error: 2.3366\n",
            "Epoch 208/500\n",
            "3/3 [==============================] - 0s 16ms/step - loss: 7.3300 - mean_absolute_error: 1.9028 - val_loss: 11.9281 - val_mean_absolute_error: 2.3860\n",
            "Epoch 209/500\n",
            "3/3 [==============================] - 0s 37ms/step - loss: 7.3712 - mean_absolute_error: 1.8968 - val_loss: 12.3190 - val_mean_absolute_error: 2.4466\n",
            "Epoch 210/500\n",
            "3/3 [==============================] - 0s 18ms/step - loss: 7.1284 - mean_absolute_error: 1.8388 - val_loss: 12.3948 - val_mean_absolute_error: 2.3837\n",
            "Epoch 211/500\n",
            "3/3 [==============================] - 0s 33ms/step - loss: 7.2151 - mean_absolute_error: 1.8853 - val_loss: 11.9619 - val_mean_absolute_error: 2.4312\n",
            "Epoch 212/500\n",
            "3/3 [==============================] - 0s 24ms/step - loss: 7.2943 - mean_absolute_error: 1.8443 - val_loss: 12.4995 - val_mean_absolute_error: 2.3348\n",
            "Epoch 213/500\n",
            "3/3 [==============================] - 0s 20ms/step - loss: 7.3328 - mean_absolute_error: 1.8529 - val_loss: 12.3815 - val_mean_absolute_error: 2.3714\n",
            "Epoch 214/500\n",
            "3/3 [==============================] - 0s 34ms/step - loss: 7.4185 - mean_absolute_error: 1.8830 - val_loss: 12.1190 - val_mean_absolute_error: 2.3663\n",
            "Epoch 215/500\n",
            "3/3 [==============================] - 0s 23ms/step - loss: 7.0758 - mean_absolute_error: 1.8239 - val_loss: 12.6849 - val_mean_absolute_error: 2.3322\n",
            "Epoch 216/500\n",
            "3/3 [==============================] - 0s 32ms/step - loss: 7.1862 - mean_absolute_error: 1.8787 - val_loss: 12.2442 - val_mean_absolute_error: 2.3309\n",
            "Epoch 217/500\n",
            "3/3 [==============================] - 0s 29ms/step - loss: 7.1365 - mean_absolute_error: 1.8756 - val_loss: 12.3224 - val_mean_absolute_error: 2.3296\n",
            "Epoch 218/500\n",
            "3/3 [==============================] - 0s 17ms/step - loss: 7.0778 - mean_absolute_error: 1.8434 - val_loss: 12.3280 - val_mean_absolute_error: 2.3537\n",
            "Epoch 219/500\n",
            "3/3 [==============================] - 0s 27ms/step - loss: 7.0344 - mean_absolute_error: 1.8107 - val_loss: 12.4765 - val_mean_absolute_error: 2.3994\n",
            "Epoch 220/500\n",
            "3/3 [==============================] - 0s 48ms/step - loss: 7.1014 - mean_absolute_error: 1.8503 - val_loss: 12.0474 - val_mean_absolute_error: 2.4265\n",
            "Epoch 221/500\n",
            "3/3 [==============================] - 0s 27ms/step - loss: 7.0984 - mean_absolute_error: 1.8069 - val_loss: 12.8762 - val_mean_absolute_error: 2.3537\n",
            "Epoch 222/500\n",
            "3/3 [==============================] - 0s 35ms/step - loss: 6.9841 - mean_absolute_error: 1.8555 - val_loss: 12.4908 - val_mean_absolute_error: 2.5390\n",
            "Epoch 223/500\n",
            "3/3 [==============================] - 0s 22ms/step - loss: 7.2496 - mean_absolute_error: 1.8595 - val_loss: 12.0648 - val_mean_absolute_error: 2.3599\n",
            "Epoch 224/500\n",
            "3/3 [==============================] - 0s 22ms/step - loss: 6.9072 - mean_absolute_error: 1.8181 - val_loss: 12.5479 - val_mean_absolute_error: 2.4111\n",
            "Epoch 225/500\n",
            "3/3 [==============================] - 0s 37ms/step - loss: 6.9364 - mean_absolute_error: 1.8121 - val_loss: 12.2629 - val_mean_absolute_error: 2.3476\n",
            "Epoch 226/500\n",
            "3/3 [==============================] - 0s 22ms/step - loss: 6.8666 - mean_absolute_error: 1.8016 - val_loss: 12.4381 - val_mean_absolute_error: 2.3207\n",
            "Epoch 227/500\n",
            "3/3 [==============================] - 0s 21ms/step - loss: 6.9165 - mean_absolute_error: 1.8242 - val_loss: 11.9570 - val_mean_absolute_error: 2.3488\n",
            "Epoch 228/500\n",
            "3/3 [==============================] - 0s 20ms/step - loss: 7.1537 - mean_absolute_error: 1.8636 - val_loss: 11.9995 - val_mean_absolute_error: 2.3397\n"
          ]
        }
      ],
      "source": [
        "history = model.fit(\n",
        "   x_train_scaled, y_train,    \n",
        "   batch_size=128, \n",
        "   epochs = 500, \n",
        "   verbose = 1, \n",
        "   validation_split = 0.2, \n",
        "   callbacks = [EarlyStopping(monitor = 'val_loss', patience = 20)]\n",
        ")"
      ]
    },
    {
      "cell_type": "markdown",
      "metadata": {
        "id": "Ckc_9ugTfMts"
      },
      "source": [
        "# **Step 7 − Evaluate the model**\n",
        "\n",
        "Let us evaluate the model using test data."
      ]
    },
    {
      "cell_type": "code",
      "execution_count": 7,
      "metadata": {
        "colab": {
          "base_uri": "https://localhost:8080/"
        },
        "id": "SDxJu3ghfSmA",
        "outputId": "dfacebe4-13f1-4b8a-f755-10eed9752cca"
      },
      "outputs": [
        {
          "name": "stdout",
          "output_type": "stream",
          "text": [
            "Test loss: 21.968828201293945\n",
            "Test accuracy: 2.85852313041687\n"
          ]
        }
      ],
      "source": [
        "score = model.evaluate(x_test_scaled, y_test, verbose = 0) \n",
        "print('Test loss:', score[0]) \n",
        "print('Test accuracy:', score[1])"
      ]
    },
    {
      "cell_type": "markdown",
      "metadata": {
        "id": "5NpbtUsofYMy"
      },
      "source": [
        "# **Step 8 − Predict**"
      ]
    },
    {
      "cell_type": "code",
      "execution_count": 8,
      "metadata": {
        "colab": {
          "base_uri": "https://localhost:8080/"
        },
        "id": "HYc2xmsTfcGb",
        "outputId": "53b1f8ff-3404-4fa7-e8c1-84dd32b76886"
      },
      "outputs": [
        {
          "name": "stdout",
          "output_type": "stream",
          "text": [
            "1/1 [==============================] - 0s 128ms/step\n",
            "[18.366947]\n",
            "[18.8]\n"
          ]
        }
      ],
      "source": [
        "prediction = model.predict(x_test_scaled[1:2]) \n",
        "print(prediction.flatten()) \n",
        "print(y_test[1:2])"
      ]
    }
  ],
  "metadata": {
    "colab": {
      "provenance": []
    },
    "kernelspec": {
      "display_name": "ai_ml",
      "language": "python",
      "name": "python3"
    },
    "language_info": {
      "codemirror_mode": {
        "name": "ipython",
        "version": 3
      },
      "file_extension": ".py",
      "mimetype": "text/x-python",
      "name": "python",
      "nbconvert_exporter": "python",
      "pygments_lexer": "ipython3",
      "version": "3.10.8"
    },
    "vscode": {
      "interpreter": {
        "hash": "675e5e662f103e0f338aafe09665377a2c199018438416d404abaa898c5fcab6"
      }
    }
  },
  "nbformat": 4,
  "nbformat_minor": 0
}
